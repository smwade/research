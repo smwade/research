{
 "cells": [
  {
   "cell_type": "code",
   "execution_count": 2,
   "metadata": {
    "collapsed": true
   },
   "outputs": [],
   "source": [
    "import pandas as pd\n",
    "import numpy as np\n",
    "from matplotlib import pyplot as plt"
   ]
  },
  {
   "cell_type": "code",
   "execution_count": 23,
   "metadata": {
    "collapsed": true
   },
   "outputs": [],
   "source": [
    "# find chunks for each person\n",
    "path_to_member_data = \"../../../../originaldata/20111129_DI_Member.txt\"\n",
    "data = pd.read_csv(path_to_member_data, sep=\"\\t\")\n",
    "def find_chunk(x):\n",
    "    \"\"\"\n",
    "    Find the start and stop indices of the longest chunk of 12-month enrollments.\n",
    "    \n",
    "    Parameters\n",
    "    ----------\n",
    "    x : list of integers\n",
    "    \n",
    "    Returns\n",
    "    -------\n",
    "    (start, end) : tuple of nonnegative ints\n",
    "        These give the start and end indices of x such that x[i] is equal\n",
    "        to 12 for start <= i <= end. Gives the largest such chunk.\n",
    "        If no such chunk exists, just returns (0,0).\n",
    "    \"\"\"\n",
    "    chunks = {}\n",
    "    chunk = []\n",
    "    count = 0\n",
    "    max_count = 0\n",
    "    in_chunk = False\n",
    "    for i in xrange(len(x)):\n",
    "        if x[i]==12:\n",
    "            in_chunk = True\n",
    "            chunk.append(i)\n",
    "            count += 1\n",
    "        elif in_chunk:\n",
    "            in_chunk = False\n",
    "            max_count = max(max_count, count)\n",
    "            chunks[count] = chunk\n",
    "            chunk = []\n",
    "            count = 0\n",
    "    if in_chunk:\n",
    "        max_count = max(max_count, count)\n",
    "        chunks[count] = chunk\n",
    "    try:\n",
    "        return (chunks[max_count][0],chunks[max_count][-1])\n",
    "    except KeyError:\n",
    "        return (0,0)\n",
    "data[\"Chunk_Indices\"] = data.apply(lambda x: find_chunk(x[4:13]),axis=1)\n",
    "data[\"Chunk_Start\"] = data.apply(lambda x: x.loc[\"Chunk_Indices\"][0], axis=1)\n",
    "data[\"Chunk_End\"] = data.apply(lambda x: x.loc[\"Chunk_Indices\"][1], axis=1)\n",
    "data[\"Chunk_Length\"] = data[\"Chunk_End\"]-data[\"Chunk_Start\"]+1\n",
    "del data[\"Chunk_Indices\"]\n",
    "data.to_csv(\"member_with_chunks.txt\",index=False)"
   ]
  },
  {
   "cell_type": "code",
   "execution_count": 2,
   "metadata": {
    "collapsed": false
   },
   "outputs": [],
   "source": [
    "data = pd.read_csv(\"member_with_chunks.txt\")\n",
    "data[\"ID\"] = data.iloc[:,0]\n",
    "data = data.drop(data.columns[0],axis=1)\n",
    "joined = pd.read_csv(\"../joined_data.csv\")\n",
    "merged = pd.merge(data, joined, left_on=\"ID\", right_on=\"ID\")\n",
    "merged = merged.drop(merged.columns[[0,2,3,4,5,6,7,8,9,10,11,12,17,]],axis=1)"
   ]
  },
  {
   "cell_type": "code",
   "execution_count": 2,
   "metadata": {
    "collapsed": true
   },
   "outputs": [],
   "source": [
    "# helper functions to identify codes of interest\n",
    "\n",
    "# CKD\n",
    "ckd_filter_string = \"substr({}, 1, 3) in ('403', '404', '582', '583', '585', '586') or {} = '5880'\"\n",
    "def checkCKD(c):\n",
    "    return c[:3] in ('403', '404', '582', '583', '585', '586') or c == '5880'\n",
    "\n",
    "# Type II Diabetes\n",
    "diab_filter_string = \"substr({}, 1, 3) = '250' and length(ICD) = 5 and substr({}, 5, 5) in ('0', '2')\"\n",
    "def checkDM(c):\n",
    "    return len(c)==5 and c[:3] =='250' and c[4] in ('0', '2')\n",
    "\n",
    "# Macular Degeneration\n",
    "def checkMD(c):\n",
    "    return c[:4] == '3625'\n",
    "\n",
    "# glaucoma\n",
    "def checkGC(c):\n",
    "    return c[:3]=='365'\n",
    "\n",
    "# diabetic retinopathy\n",
    "def checkDR(c):\n",
    "    # return c[:4] in ('3620','2505')\n",
    "    return c[:4]=='3620'"
   ]
  },
  {
   "cell_type": "code",
   "execution_count": 5,
   "metadata": {
    "collapsed": true
   },
   "outputs": [],
   "source": [
    "merged = pd.read_csv(\"joined_data.csv\", index_col=0)"
   ]
  },
  {
   "cell_type": "code",
   "execution_count": 18,
   "metadata": {
    "collapsed": false
   },
   "outputs": [],
   "source": [
    "# only keep people born in 1972 or earlier (so they would be at least 40 by 2012)\n",
    "merged = merged[merged.Birth.apply(lambda x: x[:4]<='1972')]"
   ]
  },
  {
   "cell_type": "code",
   "execution_count": 19,
   "metadata": {
    "collapsed": false
   },
   "outputs": [
    {
     "data": {
      "text/html": [
       "<div>\n",
       "<table border=\"1\" class=\"dataframe\">\n",
       "  <thead>\n",
       "    <tr style=\"text-align: right;\">\n",
       "      <th></th>\n",
       "      <th>ID</th>\n",
       "      <th>Birth</th>\n",
       "      <th>Sex</th>\n",
       "      <th>Codes</th>\n",
       "      <th>Dates</th>\n",
       "    </tr>\n",
       "  </thead>\n",
       "  <tbody>\n",
       "    <tr>\n",
       "      <th>156218</th>\n",
       "      <td>1878022</td>\n",
       "      <td>1972-12-31 00:00:00</td>\n",
       "      <td>F</td>\n",
       "      <td>6202,5920,V2511,5929,6202,6259,5990,4619,5920,...</td>\n",
       "      <td>2012-11-26,2011-11-30,2012-05-30,2013-02-07,20...</td>\n",
       "    </tr>\n",
       "    <tr>\n",
       "      <th>156219</th>\n",
       "      <td>540138702</td>\n",
       "      <td>1972-12-31 00:00:00</td>\n",
       "      <td>F</td>\n",
       "      <td>V2512,5920,7936,5920,5990,5921,V1301,78791,591...</td>\n",
       "      <td>2011-09-16,2011-03-28,2011-07-28,2011-03-08,20...</td>\n",
       "    </tr>\n",
       "    <tr>\n",
       "      <th>156220</th>\n",
       "      <td>540961543</td>\n",
       "      <td>1972-12-31 00:00:00</td>\n",
       "      <td>F</td>\n",
       "      <td>30000,79389,78052,462,4619,V700,7862,61189,296...</td>\n",
       "      <td>2014-07-30,2014-03-13,2014-10-01,2012-01-20,20...</td>\n",
       "    </tr>\n",
       "    <tr>\n",
       "      <th>156221</th>\n",
       "      <td>542553881</td>\n",
       "      <td>1972-12-31 00:00:00</td>\n",
       "      <td>M</td>\n",
       "      <td>V5721,2572,1869,4019,2364,1869,1869,78052,7805...</td>\n",
       "      <td>2011-11-21,2010-07-28,2011-12-16,2010-08-09,20...</td>\n",
       "    </tr>\n",
       "    <tr>\n",
       "      <th>156222</th>\n",
       "      <td>545107124</td>\n",
       "      <td>1972-12-31 00:00:00</td>\n",
       "      <td>F</td>\n",
       "      <td>7061,38840,7804,V720,V720,9953,2382,7061,7061</td>\n",
       "      <td>2014-09-25,2014-12-16,2014-12-16,2013-01-28,20...</td>\n",
       "    </tr>\n",
       "  </tbody>\n",
       "</table>\n",
       "</div>"
      ],
      "text/plain": [
       "               ID                Birth Sex  \\\n",
       "156218    1878022  1972-12-31 00:00:00   F   \n",
       "156219  540138702  1972-12-31 00:00:00   F   \n",
       "156220  540961543  1972-12-31 00:00:00   F   \n",
       "156221  542553881  1972-12-31 00:00:00   M   \n",
       "156222  545107124  1972-12-31 00:00:00   F   \n",
       "\n",
       "                                                    Codes  \\\n",
       "156218  6202,5920,V2511,5929,6202,6259,5990,4619,5920,...   \n",
       "156219  V2512,5920,7936,5920,5990,5921,V1301,78791,591...   \n",
       "156220  30000,79389,78052,462,4619,V700,7862,61189,296...   \n",
       "156221  V5721,2572,1869,4019,2364,1869,1869,78052,7805...   \n",
       "156222      7061,38840,7804,V720,V720,9953,2382,7061,7061   \n",
       "\n",
       "                                                    Dates  \n",
       "156218  2012-11-26,2011-11-30,2012-05-30,2013-02-07,20...  \n",
       "156219  2011-09-16,2011-03-28,2011-07-28,2011-03-08,20...  \n",
       "156220  2014-07-30,2014-03-13,2014-10-01,2012-01-20,20...  \n",
       "156221  2011-11-21,2010-07-28,2011-12-16,2010-08-09,20...  \n",
       "156222  2014-09-25,2014-12-16,2014-12-16,2013-01-28,20...  "
      ]
     },
     "execution_count": 19,
     "metadata": {},
     "output_type": "execute_result"
    }
   ],
   "source": [
    "merged.head()"
   ]
  },
  {
   "cell_type": "code",
   "execution_count": 24,
   "metadata": {
    "collapsed": false
   },
   "outputs": [
    {
     "name": "stdout",
     "output_type": "stream",
     "text": [
      "0\n",
      "1000\n",
      "2000\n",
      "3000\n",
      "4000\n",
      "5000\n",
      "6000\n",
      "7000\n",
      "8000\n",
      "9000\n",
      "10000\n",
      "11000\n",
      "12000\n",
      "13000\n",
      "14000\n",
      "15000\n",
      "16000\n",
      "17000\n",
      "18000\n",
      "19000\n",
      "20000\n",
      "21000\n",
      "22000\n",
      "23000\n",
      "24000\n",
      "25000\n",
      "26000\n",
      "27000\n",
      "28000\n",
      "29000\n",
      "30000\n",
      "31000\n",
      "32000\n",
      "33000\n",
      "34000\n",
      "35000\n",
      "36000\n",
      "37000\n",
      "38000\n",
      "39000\n",
      "40000\n",
      "41000\n",
      "42000\n",
      "43000\n",
      "44000\n",
      "45000\n",
      "46000\n",
      "47000\n",
      "48000\n",
      "49000\n",
      "50000\n",
      "51000\n",
      "52000\n",
      "53000\n",
      "54000\n",
      "55000\n",
      "56000\n",
      "57000\n",
      "58000\n",
      "59000\n",
      "60000\n",
      "61000\n",
      "62000\n",
      "63000\n",
      "64000\n",
      "65000\n",
      "66000\n",
      "67000\n",
      "68000\n",
      "0\n",
      "1000\n",
      "2000\n",
      "3000\n",
      "4000\n",
      "5000\n",
      "6000\n",
      "7000\n",
      "8000\n",
      "9000\n",
      "10000\n",
      "11000\n",
      "12000\n",
      "13000\n",
      "14000\n",
      "15000\n",
      "16000\n",
      "17000\n",
      "18000\n",
      "19000\n",
      "20000\n",
      "21000\n",
      "22000\n",
      "23000\n",
      "24000\n",
      "25000\n",
      "26000\n",
      "27000\n",
      "28000\n",
      "29000\n",
      "30000\n",
      "31000\n",
      "32000\n",
      "33000\n",
      "34000\n",
      "35000\n",
      "36000\n",
      "37000\n",
      "38000\n",
      "39000\n",
      "40000\n",
      "41000\n",
      "42000\n",
      "43000\n",
      "44000\n",
      "45000\n",
      "46000\n",
      "47000\n",
      "48000\n",
      "49000\n",
      "50000\n",
      "51000\n",
      "52000\n",
      "53000\n",
      "54000\n",
      "55000\n",
      "56000\n",
      "57000\n",
      "58000\n",
      "59000\n",
      "60000\n",
      "61000\n",
      "62000\n",
      "63000\n",
      "64000\n",
      "65000\n",
      "66000\n",
      "67000\n",
      "68000\n"
     ]
    }
   ],
   "source": [
    "for check, fname in zip([checkCKD,checkDM],[\"ckd_survival.csv\",\"diabetes_survival.csv\"]):\n",
    "    day = np.timedelta64(1,'D')\n",
    "    year = np.timedelta64(365,'D')\n",
    "    obs_years = 2 # number of years to use for observation\n",
    "    merged[\"ObsCodes\"] = \"\" # codes seen during observed period\n",
    "    merged[\"Age\"] = 0 # age relative to end of observed period\n",
    "    merged[\"Survival\"] = -1 # time in days to survival\n",
    "    merged[\"Event\"] = 0 # 0 means censored, 1 means occurred\n",
    "    count=0\n",
    "    for i in merged.index:\n",
    "        if count % 1000 == 0:\n",
    "            print (count)\n",
    "        count += 1\n",
    "        # find the date of first diagnosis, use to get surival time\n",
    "        codes = np.array(merged.loc[i,\"Codes\"].split(\",\"))\n",
    "        dates = np.array(merged.loc[i,\"Dates\"].split(\",\"))\n",
    "        sorted_dates = np.argsort(dates)\n",
    "        codes = codes[sorted_dates]\n",
    "        dates = dates[sorted_dates]\n",
    "        ind = -1\n",
    "        for j,c in enumerate(codes):\n",
    "            if check(c):\n",
    "                ind = j\n",
    "                break\n",
    "        if ind==-1: #no disease code was seen, so censored. survival time is easy\n",
    "            merged.loc[i,\"Survival\"] = 3*365 # they survived the whole 3 years\n",
    "        else: # a disease code was seen. find survival time\n",
    "            merged.loc[i,\"Event\"] = 1\n",
    "            merged.loc[i,\"Survival\"] = (np.datetime64(dates[ind]) - np.datetime64(\"2012-01-01\"))/day+1\n",
    "        # get observed codes and age for those with valid survival times\n",
    "        if merged.loc[i,\"Survival\"] > 0:\n",
    "                merged.loc[i,\"ObsCodes\"] = \",\".join([c for k,c in enumerate(codes) if \n",
    "                                             dates[k][:4]<'2012'])\n",
    "                merged.loc[i,\"Age\"] = (np.datetime64(\"2012-01-01\") - \n",
    "                                       np.datetime64(merged.loc[i,\"Birth\"][:10]))/year\n",
    "    merged[[\"ID\",\"Sex\",\"Age\",\"ObsCodes\",\"Survival\",\"Event\"]].to_csv(fname,index=False)        "
   ]
  },
  {
   "cell_type": "code",
   "execution_count": 3,
   "metadata": {
    "collapsed": false
   },
   "outputs": [],
   "source": [
    "diab = pd.read_csv(\"diabetes_survival.csv\")"
   ]
  },
  {
   "cell_type": "code",
   "execution_count": 6,
   "metadata": {
    "collapsed": false
   },
   "outputs": [
    {
     "data": {
      "text/html": [
       "<div>\n",
       "<table border=\"1\" class=\"dataframe\">\n",
       "  <thead>\n",
       "    <tr style=\"text-align: right;\">\n",
       "      <th></th>\n",
       "      <th>ID</th>\n",
       "      <th>Sex</th>\n",
       "      <th>Age</th>\n",
       "      <th>ObsCodes</th>\n",
       "      <th>Survival</th>\n",
       "      <th>Event</th>\n",
       "    </tr>\n",
       "  </thead>\n",
       "  <tbody>\n",
       "    <tr>\n",
       "      <th>0</th>\n",
       "      <td>1878022</td>\n",
       "      <td>F</td>\n",
       "      <td>39.027397</td>\n",
       "      <td>7061,7061,69010,1100,V7231,7061,V700,5990,5997...</td>\n",
       "      <td>1095.0</td>\n",
       "      <td>0</td>\n",
       "    </tr>\n",
       "    <tr>\n",
       "      <th>1</th>\n",
       "      <td>540138702</td>\n",
       "      <td>F</td>\n",
       "      <td>39.027397</td>\n",
       "      <td>4611,5990,4659,7862,07999,78904,78904,5920,592...</td>\n",
       "      <td>1095.0</td>\n",
       "      <td>0</td>\n",
       "    </tr>\n",
       "    <tr>\n",
       "      <th>2</th>\n",
       "      <td>540961543</td>\n",
       "      <td>F</td>\n",
       "      <td>39.027397</td>\n",
       "      <td>38870,4660,462</td>\n",
       "      <td>1095.0</td>\n",
       "      <td>0</td>\n",
       "    </tr>\n",
       "    <tr>\n",
       "      <th>3</th>\n",
       "      <td>542553881</td>\n",
       "      <td>M</td>\n",
       "      <td>39.027397</td>\n",
       "      <td>2572,4011,78052,78052,2572,4019,78052,2572,401...</td>\n",
       "      <td>1095.0</td>\n",
       "      <td>0</td>\n",
       "    </tr>\n",
       "    <tr>\n",
       "      <th>4</th>\n",
       "      <td>545107124</td>\n",
       "      <td>F</td>\n",
       "      <td>39.027397</td>\n",
       "      <td></td>\n",
       "      <td>1095.0</td>\n",
       "      <td>0</td>\n",
       "    </tr>\n",
       "  </tbody>\n",
       "</table>\n",
       "</div>"
      ],
      "text/plain": [
       "          ID Sex        Age  \\\n",
       "0    1878022   F  39.027397   \n",
       "1  540138702   F  39.027397   \n",
       "2  540961543   F  39.027397   \n",
       "3  542553881   M  39.027397   \n",
       "4  545107124   F  39.027397   \n",
       "\n",
       "                                            ObsCodes  Survival  Event  \n",
       "0  7061,7061,69010,1100,V7231,7061,V700,5990,5997...    1095.0      0  \n",
       "1  4611,5990,4659,7862,07999,78904,78904,5920,592...    1095.0      0  \n",
       "2                                     38870,4660,462    1095.0      0  \n",
       "3  2572,4011,78052,78052,2572,4019,78052,2572,401...    1095.0      0  \n",
       "4                                                       1095.0      0  "
      ]
     },
     "execution_count": 6,
     "metadata": {},
     "output_type": "execute_result"
    }
   ],
   "source": [
    "diab.fillna(value=\"\").head()"
   ]
  },
  {
   "cell_type": "code",
   "execution_count": 9,
   "metadata": {
    "collapsed": false
   },
   "outputs": [
    {
     "data": {
      "text/plain": [
       "(58745, 6)"
      ]
     },
     "execution_count": 9,
     "metadata": {},
     "output_type": "execute_result"
    }
   ],
   "source": [
    "diab[(diab.Event==0)&(diab.Survival>0)].shape"
   ]
  },
  {
   "cell_type": "code",
   "execution_count": null,
   "metadata": {
    "collapsed": true
   },
   "outputs": [],
   "source": []
  },
  {
   "cell_type": "code",
   "execution_count": 108,
   "metadata": {
    "collapsed": false
   },
   "outputs": [
    {
     "data": {
      "text/plain": [
       "[139, 146, 152, 160, 166, 172]"
      ]
     },
     "execution_count": 108,
     "metadata": {},
     "output_type": "execute_result"
    }
   ],
   "source": [
    "[i for i,c in enumerate(joined.loc[984,\"Codes\"].split(\",\")) if c[:3] in ('403', '404', '582', '583', '585', '586')]"
   ]
  },
  {
   "cell_type": "code",
   "execution_count": null,
   "metadata": {
    "collapsed": true
   },
   "outputs": [],
   "source": [
    "joined.loc[984,\"Codes\"].split(\",\").index()"
   ]
  },
  {
   "cell_type": "code",
   "execution_count": 109,
   "metadata": {
    "collapsed": false
   },
   "outputs": [
    {
     "data": {
      "text/plain": [
       "'2009-05-13'"
      ]
     },
     "execution_count": 109,
     "metadata": {},
     "output_type": "execute_result"
    }
   ],
   "source": [
    "joined.loc[984,\"Dates\"].split(\",\")[139]"
   ]
  },
  {
   "cell_type": "code",
   "execution_count": null,
   "metadata": {
    "collapsed": true
   },
   "outputs": [],
   "source": []
  }
 ],
 "metadata": {
  "kernelspec": {
   "display_name": "Python 2",
   "language": "python",
   "name": "python2"
  },
  "language_info": {
   "codemirror_mode": {
    "name": "ipython",
    "version": 2
   },
   "file_extension": ".py",
   "mimetype": "text/x-python",
   "name": "python",
   "nbconvert_exporter": "python",
   "pygments_lexer": "ipython2",
   "version": "2.7.13"
  }
 },
 "nbformat": 4,
 "nbformat_minor": 0
}
