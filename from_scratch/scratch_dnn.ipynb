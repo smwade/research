{
 "cells": [
  {
   "cell_type": "markdown",
   "metadata": {},
   "source": [
    "# From Scratch\n",
    "Sean Wade"
   ]
  },
  {
   "cell_type": "code",
   "execution_count": 2,
   "metadata": {
    "collapsed": false
   },
   "outputs": [],
   "source": [
    "from __future__ import division, print_function, absolute_import\n",
    "\n",
    "import numpy as np\n",
    "from pynet.layers import *\n",
    "from pynet.utils.data import load_data\n",
    "from pynet.utils import gradient_check\n",
    "from pynet.optim import sgd"
   ]
  },
  {
   "cell_type": "code",
   "execution_count": 3,
   "metadata": {
    "collapsed": true
   },
   "outputs": [],
   "source": [
    "# Settings\n",
    "REG = 0\n",
    "BATCH_SIZE = 32\n",
    "INPUT_DIM = 28 * 28\n",
    "WEIGHT_SCALE=.01\n",
    "HIDDEN_DIM = 100\n",
    "NUM_CLASSES = 10\n",
    "EPOCHS = 25000"
   ]
  },
  {
   "cell_type": "code",
   "execution_count": 4,
   "metadata": {
    "collapsed": true
   },
   "outputs": [],
   "source": [
    "# Load data\n",
    "x_train, y_train, x_test, y_test, y_train_num, y_test_num = load_data('mnist')\n",
    "# x_train : (60000, 28, 28, 1)\n",
    "# y_tarin : (60000, 10)\n",
    "# x_test : (10000, 28, 28, 1)\n",
    "# y_test : (10000, 10"
   ]
  },
  {
   "cell_type": "code",
   "execution_count": 5,
   "metadata": {
    "collapsed": true
   },
   "outputs": [],
   "source": [
    "# Initialize weights to train\n",
    "params = {}\n",
    "params['W1'] = np.random.normal(scale=WEIGHT_SCALE, size=(INPUT_DIM, HIDDEN_DIM))\n",
    "params['W2'] = np.random.normal(scale=WEIGHT_SCALE, size=(HIDDEN_DIM, NUM_CLASSES))\n",
    "params['b1'] = np.zeros(HIDDEN_DIM)\n",
    "params['b2'] = np.zeros(NUM_CLASSES)"
   ]
  },
  {
   "cell_type": "code",
   "execution_count": 6,
   "metadata": {
    "collapsed": false
   },
   "outputs": [
    {
     "name": "stdout",
     "output_type": "stream",
     "text": [
      "Initialized Paramaters:\n",
      "b2:  (10,)\n",
      "W2:  (100, 10)\n",
      "W1:  (784, 100)\n",
      "b1:  (100,)\n"
     ]
    }
   ],
   "source": [
    "print('Initialized Paramaters:')\n",
    "for name, tensor in params.iteritems():\n",
    "    print('%s: ' % name, tensor.shape)"
   ]
  },
  {
   "cell_type": "code",
   "execution_count": null,
   "metadata": {
    "collapsed": false
   },
   "outputs": [],
   "source": [
    "# Training\n",
    "loss_hist = []\n",
    "acc_hist = []\n",
    "print('Starting training...')\n",
    "for i in range(EPOCHS):  \n",
    "    # Shuffle the data for batch\n",
    "    d = len(y_train)\n",
    "    num_iters_per_epoch = EPOCHS // d\n",
    "    shuffle = np.random.permutation(d)\n",
    "    x_train = x_train[shuffle]\n",
    "    y_train = y_train[shuffle] \n",
    "    \n",
    "    for j in range(1, num_iters_per_epoch+1):\n",
    "        # Make minibatch\n",
    "        batch_start = (j-1)*BATCH_SIZE\n",
    "        batch_end = j*BATCH_SIZE\n",
    "        x_batch = x_train[batch_start:batch_end]\n",
    "        y_batch = y_train[batch_start:batch_end]\n",
    "        y_batch_num = y_train_num[batch_start:batch_end]\n",
    "\n",
    "        # Forward Pass\n",
    "        h1, linear_cache_1 = linear_forward(x_batch, params['W1'], params['b1'])\n",
    "        a1, relu_cache_1= relu_forward(h1)\n",
    "        h2, linear_cache_2 = linear_forward(a1, params['W2'], params['b2'])\n",
    "        a2, relu_cache_2 = relu_forward(h2)\n",
    "\n",
    "        # Loss\n",
    "        probs, loss, dx = softmax_loss(a2, y_batch_num)\n",
    "        loss += .5 * REG * np.sum(params['W1']**2) + .5 * REG * np.sum(params['W2']**2)\n",
    "\n",
    "        # Backwards Pass\n",
    "        grads = {}\n",
    "        da = relu_backward(dx, relu_cache_2)\n",
    "        dx_2, grads['W2'], grads['b2'] = linear_backward(da, linear_cache_2)\n",
    "        da_2 = relu_backward(dx_2, relu_cache_1)\n",
    "        dx, grads['W1'], grads['b1'] = linear_backward(da_2, linear_cache_1)\n",
    "\n",
    "        # Regularization (Maybe optional...)\n",
    "        grads['W2'] += REG * params['W2']\n",
    "        grads['W1'] += REG * params['W1']\n",
    "\n",
    "        # Parameter update\n",
    "        for p, w in params.iteritems():\n",
    "            dw = grads[p]\n",
    "            next_w, next_config = sgd(w, dw)\n",
    "            params[p] = next_w  # Update weights\n",
    "\n",
    "        if j % 10 == 0:\n",
    "            # Calculate the accuracy\n",
    "            y_pred = np.argmax(probs, axis=1) # Get the higest prob index\n",
    "            train_acc = np.mean(y_pred == y_batch_num)\n",
    "            acc_hist.append(train_acc)\n",
    "            loss_hist.append(loss)\n",
    "            print(\"[{}] loss: {}, Acc: {}\".format(i, loss, train_acc))\n",
    "\n",
    "print('\\n---Completed Training---')"
   ]
  },
  {
   "cell_type": "code",
   "execution_count": null,
   "metadata": {
    "collapsed": true
   },
   "outputs": [],
   "source": []
  },
  {
   "cell_type": "code",
   "execution_count": null,
   "metadata": {
    "collapsed": true
   },
   "outputs": [],
   "source": []
  }
 ],
 "metadata": {
  "kernelspec": {
   "display_name": "Python 2",
   "language": "python",
   "name": "python2"
  },
  "language_info": {
   "codemirror_mode": {
    "name": "ipython",
    "version": 2
   },
   "file_extension": ".py",
   "mimetype": "text/x-python",
   "name": "python",
   "nbconvert_exporter": "python",
   "pygments_lexer": "ipython2",
   "version": "2.7.13"
  }
 },
 "nbformat": 4,
 "nbformat_minor": 0
}
