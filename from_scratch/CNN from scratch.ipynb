{
 "cells": [
  {
   "cell_type": "markdown",
   "metadata": {},
   "source": [
    "# More CNN\n",
    "Sean Wade"
   ]
  },
  {
   "cell_type": "code",
   "execution_count": 2,
   "metadata": {
    "collapsed": false
   },
   "outputs": [
    {
     "name": "stderr",
     "output_type": "stream",
     "text": [
      "Using TensorFlow backend.\n"
     ]
    }
   ],
   "source": [
    "from __future__ import absolute_import, division, print_function\n",
    "import numpy as np\n",
    "from keras.datasets import mnist\n",
    "from keras.utils import np_utils"
   ]
  },
  {
   "cell_type": "code",
   "execution_count": 3,
   "metadata": {
    "collapsed": false
   },
   "outputs": [],
   "source": [
    "# Load Data\n",
    "(x_train, y_train_num), (x_test, y_test_num) = mnist.load_data()\n",
    "x_train = x_train.astype('float32')\n",
    "x_test = x_test.astype('float32')\n",
    "x_train /= 255\n",
    "x_test /= 255\n",
    "y_train = np_utils.to_categorical(y_train_num, 100)\n",
    "y_test = np_utils.to_categorical(y_test_num, 100)"
   ]
  },
  {
   "cell_type": "code",
   "execution_count": 4,
   "metadata": {
    "collapsed": false
   },
   "outputs": [
    {
     "name": "stdout",
     "output_type": "stream",
     "text": [
      "Training:  (60000, 28, 28)\n",
      "Test:  (10000, 28, 28)\n"
     ]
    }
   ],
   "source": [
    "print(\"Training: \", x_train.shape)\n",
    "print(\"Test: \", x_test.shape)"
   ]
  },
  {
   "cell_type": "code",
   "execution_count": null,
   "metadata": {
    "collapsed": true
   },
   "outputs": [],
   "source": []
  },
  {
   "cell_type": "markdown",
   "metadata": {},
   "source": [
    "## Random Math\n",
    "\n",
    "### Cross-Correlation\n",
    "Given image $I$ and filter $F$ of dimension $KxK$\n",
    "\n",
    "$$ C(x,y) = \\sum_{a=0}^{k-1} \\sum_{b=0}^{k-1} I(x+a, y+b)F(a,b)$$\n",
    "\n",
    "### Convolution\n",
    "$$ C(x,y) = \\sum_{a=0}^{k-1} \\sum_{b=0}^{k-1} I(x-a, y-b)F(a,b)$$\n",
    "\n",
    "Convolution is the same as cross-correlation, except the kernal is flipped (rotated 180).\n",
    "\n",
    "### Error\n",
    "$$C = \\frac{1}{2} \\sum_{p=1}^P (Y - \\hat{Y})^2 $$\n",
    "\n",
    "### Backprop\n",
    "\n",
    "The Magic:\n",
    "\n",
    "$$\\partial_j^l = f'(u_j^l) \\circ \\text{conv2}(\\partial_j^{l+1}, \\text{rot180}(k_j^{l+1}),'\\text{full}')$$\n",
    "\n",
    "In standard neural networks we can define the error of a neuron as \n",
    "\n",
    "$\\partial^l_j = \\frac{\\partial C}{\\partial^l_j}$\n",
    "\n",
    "But for convolutions it is 2 dimensional so we instead have $z_{x,y}$\n",
    "\n",
    "$$z_{x,y}^{l+1} = \\sigma ( w_{x,y}^{l+1} \\ast z_{x,y}^l + b_{x,y}^{l+1} )= sigma (\\sum_a \\sum_b w_{x,y}^{l+1} z_{x-a,y-b}^l)$$\n",
    "\n",
    "$$\\partial_{x,y}^l = \\frac{\\partial C}{\\partial z_{x,y}^l} = \\sum_{x'} \\sum_{y'} \\frac{\\partial C}{\\partial_{x',y'}^{l+1}} \\frac{\\partial_{x',y'}^{l+1}}{\\partial_{x,y}^{l}}$$\n",
    "\n",
    "\n",
    "### Checking gradients with Finite-Differences\n",
    "$$\\frac{\\partial E}{\\partial w_i} \\approx \\frac{E(w_i + \\epsilon) - E(w_i - \\epsilon)}{2\\epsilon}$$\n",
    "\n",
    "Pick $\\epsilon$ around $10^{-8}$ so its small but not too small."
   ]
  },
  {
   "cell_type": "markdown",
   "metadata": {},
   "source": [
    "## Model\n",
    "\n",
    "- conv2d (BS, 28, 28, 1)\n",
    "- activ (BS, 26, 26, 32)\n",
    "- conv2d (BS, 26, 26, 32)\n",
    "- activ (BS, 24, 24, 32)\n",
    "- flatten (BS, 24, 24, 32)\n",
    "- dense (BS, 18432)\n",
    "- activ (BS, 10)"
   ]
  },
  {
   "cell_type": "code",
   "execution_count": 5,
   "metadata": {
    "collapsed": true
   },
   "outputs": [],
   "source": [
    "BATCH_SIZE = 28\n",
    "EPOCHS = 2"
   ]
  },
  {
   "cell_type": "code",
   "execution_count": 6,
   "metadata": {
    "collapsed": false
   },
   "outputs": [
    {
     "ename": "SyntaxError",
     "evalue": "invalid syntax (<ipython-input-6-c7ea9af45265>, line 8)",
     "output_type": "error",
     "traceback": [
      "\u001b[0;36m  File \u001b[0;32m\"<ipython-input-6-c7ea9af45265>\"\u001b[0;36m, line \u001b[0;32m8\u001b[0m\n\u001b[0;31m    return X[X < 0] = 0\u001b[0m\n\u001b[0m                    ^\u001b[0m\n\u001b[0;31mSyntaxError\u001b[0m\u001b[0;31m:\u001b[0m invalid syntax\n"
     ]
    }
   ],
   "source": [
    "def relu(X):\n",
    "    \"\"\" The non-linear relu activation.\n",
    "    Args:\n",
    "      x : (np.array) Tensor\n",
    "    returns:\n",
    "      relu(x) : (np.array) Tensor of same dimension.\n",
    "    \"\"\"\n",
    "    return X[X < 0] = 0"
   ]
  },
  {
   "cell_type": "markdown",
   "metadata": {},
   "source": [
    "## Convolutions"
   ]
  },
  {
   "cell_type": "code",
   "execution_count": null,
   "metadata": {
    "collapsed": false
   },
   "outputs": [],
   "source": [
    "def conv2d(kern, x):\n",
    "    h, w = x.shape\n",
    "    k = len(kern)\n",
    "    new_h = h - k + 1\n",
    "    new_w = w - k + 1\n",
    "    result = np.zeros((new_h, new_w))\n",
    "    for i in range(new_w):\n",
    "        for j in range(new_h):\n",
    "            result[j, i] = np.sum(x[j:j+k,i:i+k].flatten() * kern.flatten())\n",
    "    return result"
   ]
  },
  {
   "cell_type": "code",
   "execution_count": null,
   "metadata": {
    "collapsed": true
   },
   "outputs": [],
   "source": [
    "# Implementation using regular convolution\n",
    "def conv(K, X):\n",
    "    batch, depth, height, width = X.shape\n",
    "    new_depth, k = K.shape[1], K.shape[3]\n",
    "    new_height = height-k+1\n",
    "    new_width = width-k+1\n",
    "    result = np.zeros((batch, new_depth, new_height, new_width))\n",
    "    for b in range(batch):\n",
    "        for d in range(new_depth):\n",
    "             result[b,d] = conv2d(K[b,d], X[b,d])\n",
    "    return result"
   ]
  },
  {
   "cell_type": "code",
   "execution_count": null,
   "metadata": {
    "collapsed": false
   },
   "outputs": [],
   "source": [
    "# Complete convolution in one funtion\n",
    "def full_conv(K, X):\n",
    "    batch, depth, height, width = X.shape\n",
    "    new_depth, k = K.shape[1], K.shape[3]\n",
    "    new_height = height-k+1\n",
    "    new_width = width-k+1\n",
    "    result = np.zeros((batch, new_depth, new_height, new_width))\n",
    "    for b in range(batch):\n",
    "        for d in range(new_depth):\n",
    "            for w in range(new_width):\n",
    "                for h in range(new_height):\n",
    "                    result[b,d,h:h+k,w:w+k] = np.sum(X[b,d,h:h+k,w:w+k].flatten() * K[b,d].flatten())\n",
    "    return result"
   ]
  },
  {
   "cell_type": "code",
   "execution_count": null,
   "metadata": {
    "collapsed": false
   },
   "outputs": [],
   "source": [
    "import numpy as np\n",
    "from numpy.lib.stride_tricks import as_strided\n",
    " \n",
    "# Generate an image\n",
    "H = 4\n",
    "W = 5\n",
    "x = np.arange(1, H*W+1).reshape(H,W)\n",
    "print(x)\n",
    "# [[ 1  2  3  4  5]\n",
    "#  [ 6  7  8  9 10]\n",
    "#  [11 12 13 14 15]\n",
    "#  [16 17 18 19 20]]\n",
    " \n",
    "# Generate a filter\n",
    "stride = 1\n",
    "HH = 3\n",
    "WW = 3\n",
    " \n",
    "# Perform an im2col operation on x\n",
    "OH = (H - HH) / stride + 1  # output height\n",
    "OW = (W - WW) / stride + 1  # output width\n",
    "shape = (OH, OW, HH, WW)  # define the shape of output matrix\n",
    "strides = (stride*W, stride, 1*W, 1)  # define the strides(offset) according to shape\n",
    "strides = x.itemsize * np.array(strides)  # turn unit of the strides into byte\n",
    "x_stride = as_strided(x, shape=shape, strides=strides)\n",
    "x_cols = np.ascontiguousarray(x_stride)  # put our convenience matrix together im memory\n",
    "print(x_cols[0, 0])\n",
    "# [[ 1  2  3]\n",
    "#  [ 6  7  8]\n",
    "#  [11 12 13]]\n",
    "print(x_cols[1, 0])\n",
    "# [[ 6  7  8]\n",
    "#  [11 12 13]\n",
    "#  [16 17 18]]\n",
    "print(x_cols[1, 2])\n",
    "# [[ 8  9 10]\n",
    "#  [13 14 15]\n",
    "#  [18 19 20]]"
   ]
  },
  {
   "cell_type": "code",
   "execution_count": null,
   "metadata": {
    "collapsed": true
   },
   "outputs": [],
   "source": [
    "# Input Image(28,28,1)\n",
    "# Output (10,)\n",
    "# (BATCH, DEPTH, HEIGHT, WIDTH)\n",
    "\n",
    "# Initialize the weights\n",
    "W1 = np.random.randn(BATCH_SIZE, 1, 3, 3)\n",
    "# B1 = np.random.randn(32)\n",
    "W2 = np.random.randn(BATCH_SIZE, 32, 3, 3)\n",
    "# B1 = np.random.randn(32)\n",
    "W3 = np.random.randn(18432, 10)\n",
    "B3 = np.random.randn(10)"
   ]
  },
  {
   "cell_type": "code",
   "execution_count": 7,
   "metadata": {
    "collapsed": false
   },
   "outputs": [
    {
     "ename": "SyntaxError",
     "evalue": "invalid syntax (<ipython-input-7-40469a51c827>, line 16)",
     "output_type": "error",
     "traceback": [
      "\u001b[0;36m  File \u001b[0;32m\"<ipython-input-7-40469a51c827>\"\u001b[0;36m, line \u001b[0;32m16\u001b[0m\n\u001b[0;31m    dscores[]\u001b[0m\n\u001b[0m            ^\u001b[0m\n\u001b[0;31mSyntaxError\u001b[0m\u001b[0;31m:\u001b[0m invalid syntax\n"
     ]
    }
   ],
   "source": [
    "for i in range(EPOCHS):\n",
    "    x = None # batch x\n",
    "    y = None\n",
    "    \n",
    "    # Forward Prop\n",
    "    h1 = conv(W1, batch)\n",
    "    a1 = relu(h1) # np.max(0,h1)\n",
    "    h2 = conv(W2, a1)\n",
    "    a2 = relu(h2)\n",
    "    dh3_shape = ap.shape\n",
    "    h3 = a2.flatten()\n",
    "    scores = np.dot(h3, W3) + B3\n",
    "    exp_scores = np.exp(scores)\n",
    "    probs = exp_scores / np.sum(exp_scores, axis=1, keepdims=True)\n",
    "    \n",
    "    # compute the loss: average cross-entropy loss and regularization\n",
    "    correct_logprobs = -np.log(probs[range(BATCH_SIZE), y])\n",
    "    data_loss = np.sum(corect_logprobs)/BATCH_SIZE\n",
    "    #reg_loss = 0.5*reg*np.sum(W*W) + 0.5*reg*np.sum(W2*W2) #FIXME\n",
    "    reg_loss = 0\n",
    "    loss = data_loss + reg_loss\n",
    "\n",
    "    # Back Prop\n",
    "    # ----------------------------------------\n",
    "    # Loss\n",
    "    dscores = probs\n",
    "    dscores[range(BATCH_SIZE), y] -= 1\n",
    "    dscores /= BATCH_SIZE\n",
    "    \n",
    "    # Fully connected layer\n",
    "    dW3 = np.dot(h3, dscores)\n",
    "    dB3 = np.sum(dscores, axis=0, keepdims=True)\n",
    "    dh3 = np.dot(dscores, W3.T)\n",
    "    \n",
    "    # Undo flatten\n",
    "    dh3 = dh3.reshape(dh3_shape)\n",
    "    \n",
    "    # Relu backprop\n",
    "    da2 = dh3\n",
    "    da2[h3 <= 0] = 0\n",
    "    \n",
    "    # 2nd Conv Layer\n",
    "    dW2\n",
    "    \n",
    "    \n",
    "    \n",
    "    \n",
    "    \n",
    "    \n",
    "    # ...\n",
    "    \n",
    "    if i % 10 == 0:\n",
    "        print(\"[%d] Loss: %f\" % (i, loss))\n",
    "    "
   ]
  },
  {
   "cell_type": "code",
   "execution_count": null,
   "metadata": {
    "collapsed": true
   },
   "outputs": [],
   "source": [
    "# --- CALC LOSS ---\n",
    "# Forward propagation to calculate our predictions\n",
    "z1 = X.dot(W1) + b1\n",
    "a1 = np.tanh(z1)\n",
    "z2 = a1.dot(W2) + b2\n",
    "exp_scores = np.exp(z2)\n",
    "probs = exp_scores / np.sum(exp_scores, axis=1, keepdims=True)\n",
    "\n",
    "# Calculating the loss\n",
    "corect_logprobs = -np.log(probs[range(num_examples), y])\n",
    "data_loss = np.sum(corect_logprobs)\n",
    "\n",
    "# Add regulatization term to loss (optional)\n",
    "data_loss += reg_lambda/2 * (np.sum(np.square(W1)) + np.sum(np.square(W2)))\n",
    "return 1./num_examples * data_loss\n"
   ]
  },
  {
   "cell_type": "code",
   "execution_count": null,
   "metadata": {
    "collapsed": true
   },
   "outputs": [],
   "source": [
    "import scipy as sp\n",
    "sp.optimize.check_grad(fun, grad_fun, param_init)"
   ]
  },
  {
   "cell_type": "code",
   "execution_count": 41,
   "metadata": {
    "collapsed": true
   },
   "outputs": [],
   "source": [
    "a = np.ones((3,4,5,6))"
   ]
  },
  {
   "cell_type": "code",
   "execution_count": 78,
   "metadata": {
    "collapsed": false
   },
   "outputs": [
    {
     "data": {
      "text/plain": [
       "array([[ 9.,  9.,  9.,  9.,  9.,  9.,  9.,  9.],\n",
       "       [ 9.,  9.,  9.,  9.,  9.,  9.,  9.,  9.],\n",
       "       [ 9.,  9.,  9.,  9.,  9.,  9.,  9.,  9.],\n",
       "       [ 9.,  9.,  9.,  9.,  9.,  9.,  9.,  9.],\n",
       "       [ 9.,  9.,  9.,  9.,  9.,  9.,  9.,  9.],\n",
       "       [ 9.,  9.,  9.,  9.,  9.,  9.,  9.,  9.],\n",
       "       [ 9.,  9.,  9.,  9.,  9.,  9.,  9.,  9.],\n",
       "       [ 9.,  9.,  9.,  9.,  9.,  9.,  9.,  9.]])"
      ]
     },
     "execution_count": 78,
     "metadata": {},
     "output_type": "execute_result"
    }
   ],
   "source": [
    "conv(np.ones((2,10,3,3)), np.ones((2,10,10,10)))\n",
    "conv2d(np.ones((3,3)), np.ones((10,10)))"
   ]
  },
  {
   "cell_type": "code",
   "execution_count": null,
   "metadata": {
    "collapsed": true
   },
   "outputs": [],
   "source": [
    "class ConvLayer():\n",
    "    \n",
    "    def forwardPass(self, l_input):\n",
    "        self.last_input = l_input\n",
    "        self.last_input_shape = l_input.shape\n",
    "        return conv2d(l_input, self.W)\n",
    "    \n",
    "    def backwardPass(self, out_grad):\n",
    "        grad = np.empty(self.last_input_shape)\n",
    "        self.dW = np.empty(self.W.shape)\n",
    "        bprop_conv(self.last_input, out_grad)\n",
    "        batch_size = out_grad.shape[0]\n",
    "        self.db = np.sum(out, axis(0, 2, 3)) / batch_size\n",
    "        self.dW -= self.weight_decay * self.W\n",
    "        return grad\n",
    "        "
   ]
  },
  {
   "cell_type": "code",
   "execution_count": 93,
   "metadata": {
    "collapsed": false
   },
   "outputs": [
    {
     "ename": "InvalidArgumentError",
     "evalue": "No OpKernel was registered to support Op 'Conv2D' with these attrs\n\t [[Node: Conv2D_6 = Conv2D[T=DT_DOUBLE, data_format=\"NHWC\", padding=\"VALID\", strides=[1, 1, 1, 1], use_cudnn_on_gpu=true](Variable_16/read, Variable_17/read)]]\nCaused by op u'Conv2D_6', defined at:\n  File \"//anaconda/lib/python2.7/runpy.py\", line 162, in _run_module_as_main\n    \"__main__\", fname, loader, pkg_name)\n  File \"//anaconda/lib/python2.7/runpy.py\", line 72, in _run_code\n    exec code in run_globals\n  File \"/anaconda/lib/python2.7/site-packages/ipykernel/__main__.py\", line 3, in <module>\n    app.launch_new_instance()\n  File \"/Users/seanwade/.local/lib/python2.7/site-packages/traitlets/config/application.py\", line 596, in launch_instance\n    app.start()\n  File \"//anaconda/lib/python2.7/site-packages/ipykernel/kernelapp.py\", line 389, in start\n    ioloop.IOLoop.instance().start()\n  File \"//anaconda/lib/python2.7/site-packages/zmq/eventloop/ioloop.py\", line 151, in start\n    super(ZMQIOLoop, self).start()\n  File \"//anaconda/lib/python2.7/site-packages/tornado/ioloop.py\", line 831, in start\n    self._run_callback(callback)\n  File \"//anaconda/lib/python2.7/site-packages/tornado/ioloop.py\", line 604, in _run_callback\n    ret = callback()\n  File \"//anaconda/lib/python2.7/site-packages/tornado/stack_context.py\", line 275, in null_wrapper\n    return fn(*args, **kwargs)\n  File \"//anaconda/lib/python2.7/site-packages/ipykernel/kernelbase.py\", line 234, in enter_eventloop\n    self.eventloop(self)\n  File \"//anaconda/lib/python2.7/site-packages/ipykernel/eventloops.py\", line 241, in loop_cocoa\n    show.mainloop()\n  File \"//anaconda/lib/python2.7/site-packages/matplotlib/backends/backend_macosx.py\", line 29, in mainloop\n    _macosx.show()\n  File \"//anaconda/lib/python2.7/site-packages/matplotlib/backend_bases.py\", line 1305, in _on_timer\n    ret = func(*args, **kwargs)\n  File \"//anaconda/lib/python2.7/site-packages/ipykernel/eventloops.py\", line 218, in doi\n    kernel.do_one_iteration()\n  File \"//anaconda/lib/python2.7/site-packages/ipykernel/kernelbase.py\", line 267, in do_one_iteration\n    stream.flush(zmq.POLLIN, 1)\n  File \"//anaconda/lib/python2.7/site-packages/zmq/eventloop/zmqstream.py\", line 345, in flush\n    self._handle_recv()\n  File \"//anaconda/lib/python2.7/site-packages/zmq/eventloop/zmqstream.py\", line 465, in _handle_recv\n    self._run_callback(callback, msg)\n  File \"//anaconda/lib/python2.7/site-packages/zmq/eventloop/zmqstream.py\", line 407, in _run_callback\n    callback(*args, **kwargs)\n  File \"//anaconda/lib/python2.7/site-packages/tornado/stack_context.py\", line 275, in null_wrapper\n    return fn(*args, **kwargs)\n  File \"//anaconda/lib/python2.7/site-packages/ipykernel/kernelbase.py\", line 252, in dispatcher\n    return self.dispatch_shell(stream, msg)\n  File \"//anaconda/lib/python2.7/site-packages/ipykernel/kernelbase.py\", line 213, in dispatch_shell\n    handler(stream, idents, msg)\n  File \"//anaconda/lib/python2.7/site-packages/ipykernel/kernelbase.py\", line 362, in execute_request\n    user_expressions, allow_stdin)\n  File \"//anaconda/lib/python2.7/site-packages/ipykernel/ipkernel.py\", line 175, in do_execute\n    shell.run_cell(code, store_history=store_history, silent=silent)\n  File \"/Users/seanwade/.local/lib/python2.7/site-packages/IPython/core/interactiveshell.py\", line 2723, in run_cell\n    interactivity=interactivity, compiler=compiler, result=result)\n  File \"/Users/seanwade/.local/lib/python2.7/site-packages/IPython/core/interactiveshell.py\", line 2825, in run_ast_nodes\n    if self.run_code(code, result):\n  File \"/Users/seanwade/.local/lib/python2.7/site-packages/IPython/core/interactiveshell.py\", line 2885, in run_code\n    exec(code_obj, self.user_global_ns, self.user_ns)\n  File \"<ipython-input-93-428db4a8cf9b>\", line 5, in <module>\n    op = tf.nn.conv2d(I, K, [1,1,1,1], padding='VALID')\n  File \"//anaconda/lib/python2.7/site-packages/tensorflow/python/ops/gen_nn_ops.py\", line 394, in conv2d\n    data_format=data_format, name=name)\n  File \"//anaconda/lib/python2.7/site-packages/tensorflow/python/ops/op_def_library.py\", line 704, in apply_op\n    op_def=op_def)\n  File \"//anaconda/lib/python2.7/site-packages/tensorflow/python/framework/ops.py\", line 2260, in create_op\n    original_op=self._default_original_op, op_def=op_def)\n  File \"//anaconda/lib/python2.7/site-packages/tensorflow/python/framework/ops.py\", line 1230, in __init__\n    self._traceback = _extract_stack()\n",
     "output_type": "error",
     "traceback": [
      "\u001b[0;31m---------------------------------------------------------------------------\u001b[0m",
      "\u001b[0;31mInvalidArgumentError\u001b[0m                      Traceback (most recent call last)",
      "\u001b[0;32m<ipython-input-93-428db4a8cf9b>\u001b[0m in \u001b[0;36m<module>\u001b[0;34m()\u001b[0m\n\u001b[1;32m      6\u001b[0m \u001b[0;34m\u001b[0m\u001b[0m\n\u001b[1;32m      7\u001b[0m \u001b[0msess\u001b[0m \u001b[0;34m=\u001b[0m \u001b[0mtf\u001b[0m\u001b[0;34m.\u001b[0m\u001b[0mSession\u001b[0m\u001b[0;34m(\u001b[0m\u001b[0;34m)\u001b[0m\u001b[0;34m\u001b[0m\u001b[0m\n\u001b[0;32m----> 8\u001b[0;31m \u001b[0msess\u001b[0m\u001b[0;34m.\u001b[0m\u001b[0mrun\u001b[0m\u001b[0;34m(\u001b[0m\u001b[0mtf\u001b[0m\u001b[0;34m.\u001b[0m\u001b[0minitialize_all_variables\u001b[0m\u001b[0;34m(\u001b[0m\u001b[0;34m)\u001b[0m\u001b[0;34m)\u001b[0m\u001b[0;34m\u001b[0m\u001b[0m\n\u001b[0m\u001b[1;32m      9\u001b[0m \u001b[0msess\u001b[0m\u001b[0;34m.\u001b[0m\u001b[0mrun\u001b[0m\u001b[0;34m(\u001b[0m\u001b[0mop\u001b[0m\u001b[0;34m)\u001b[0m\u001b[0;34m\u001b[0m\u001b[0m\n",
      "\u001b[0;32m//anaconda/lib/python2.7/site-packages/tensorflow/python/client/session.pyc\u001b[0m in \u001b[0;36mrun\u001b[0;34m(self, fetches, feed_dict, options, run_metadata)\u001b[0m\n\u001b[1;32m    370\u001b[0m     \u001b[0;32mtry\u001b[0m\u001b[0;34m:\u001b[0m\u001b[0;34m\u001b[0m\u001b[0m\n\u001b[1;32m    371\u001b[0m       result = self._run(None, fetches, feed_dict, options_ptr,\n\u001b[0;32m--> 372\u001b[0;31m                          run_metadata_ptr)\n\u001b[0m\u001b[1;32m    373\u001b[0m       \u001b[0;32mif\u001b[0m \u001b[0mrun_metadata\u001b[0m\u001b[0;34m:\u001b[0m\u001b[0;34m\u001b[0m\u001b[0m\n\u001b[1;32m    374\u001b[0m         \u001b[0mproto_data\u001b[0m \u001b[0;34m=\u001b[0m \u001b[0mtf_session\u001b[0m\u001b[0;34m.\u001b[0m\u001b[0mTF_GetBuffer\u001b[0m\u001b[0;34m(\u001b[0m\u001b[0mrun_metadata_ptr\u001b[0m\u001b[0;34m)\u001b[0m\u001b[0;34m\u001b[0m\u001b[0m\n",
      "\u001b[0;32m//anaconda/lib/python2.7/site-packages/tensorflow/python/client/session.pyc\u001b[0m in \u001b[0;36m_run\u001b[0;34m(self, handle, fetches, feed_dict, options, run_metadata)\u001b[0m\n\u001b[1;32m    634\u001b[0m     \u001b[0;32mtry\u001b[0m\u001b[0;34m:\u001b[0m\u001b[0;34m\u001b[0m\u001b[0m\n\u001b[1;32m    635\u001b[0m       results = self._do_run(handle, target_list, unique_fetches,\n\u001b[0;32m--> 636\u001b[0;31m                              feed_dict_string, options, run_metadata)\n\u001b[0m\u001b[1;32m    637\u001b[0m     \u001b[0;32mfinally\u001b[0m\u001b[0;34m:\u001b[0m\u001b[0;34m\u001b[0m\u001b[0m\n\u001b[1;32m    638\u001b[0m       \u001b[0;31m# The movers are no longer used. Delete them.\u001b[0m\u001b[0;34m\u001b[0m\u001b[0;34m\u001b[0m\u001b[0m\n",
      "\u001b[0;32m//anaconda/lib/python2.7/site-packages/tensorflow/python/client/session.pyc\u001b[0m in \u001b[0;36m_do_run\u001b[0;34m(self, handle, target_list, fetch_list, feed_dict, options, run_metadata)\u001b[0m\n\u001b[1;32m    706\u001b[0m     \u001b[0;32mif\u001b[0m \u001b[0mhandle\u001b[0m \u001b[0;32mis\u001b[0m \u001b[0mNone\u001b[0m\u001b[0;34m:\u001b[0m\u001b[0;34m\u001b[0m\u001b[0m\n\u001b[1;32m    707\u001b[0m       return self._do_call(_run_fn, self._session, feed_dict, fetch_list,\n\u001b[0;32m--> 708\u001b[0;31m                            target_list, options, run_metadata)\n\u001b[0m\u001b[1;32m    709\u001b[0m     \u001b[0;32melse\u001b[0m\u001b[0;34m:\u001b[0m\u001b[0;34m\u001b[0m\u001b[0m\n\u001b[1;32m    710\u001b[0m       return self._do_call(_prun_fn, self._session, handle, feed_dict,\n",
      "\u001b[0;32m//anaconda/lib/python2.7/site-packages/tensorflow/python/client/session.pyc\u001b[0m in \u001b[0;36m_do_call\u001b[0;34m(self, fn, *args)\u001b[0m\n\u001b[1;32m    726\u001b[0m         \u001b[0;32mexcept\u001b[0m \u001b[0mKeyError\u001b[0m\u001b[0;34m:\u001b[0m\u001b[0;34m\u001b[0m\u001b[0m\n\u001b[1;32m    727\u001b[0m           \u001b[0;32mpass\u001b[0m\u001b[0;34m\u001b[0m\u001b[0m\n\u001b[0;32m--> 728\u001b[0;31m       \u001b[0;32mraise\u001b[0m \u001b[0mtype\u001b[0m\u001b[0;34m(\u001b[0m\u001b[0me\u001b[0m\u001b[0;34m)\u001b[0m\u001b[0;34m(\u001b[0m\u001b[0mnode_def\u001b[0m\u001b[0;34m,\u001b[0m \u001b[0mop\u001b[0m\u001b[0;34m,\u001b[0m \u001b[0mmessage\u001b[0m\u001b[0;34m)\u001b[0m\u001b[0;34m\u001b[0m\u001b[0m\n\u001b[0m\u001b[1;32m    729\u001b[0m \u001b[0;34m\u001b[0m\u001b[0m\n\u001b[1;32m    730\u001b[0m   \u001b[0;32mdef\u001b[0m \u001b[0m_extend_graph\u001b[0m\u001b[0;34m(\u001b[0m\u001b[0mself\u001b[0m\u001b[0;34m)\u001b[0m\u001b[0;34m:\u001b[0m\u001b[0;34m\u001b[0m\u001b[0m\n",
      "\u001b[0;31mInvalidArgumentError\u001b[0m: No OpKernel was registered to support Op 'Conv2D' with these attrs\n\t [[Node: Conv2D_6 = Conv2D[T=DT_DOUBLE, data_format=\"NHWC\", padding=\"VALID\", strides=[1, 1, 1, 1], use_cudnn_on_gpu=true](Variable_16/read, Variable_17/read)]]\nCaused by op u'Conv2D_6', defined at:\n  File \"//anaconda/lib/python2.7/runpy.py\", line 162, in _run_module_as_main\n    \"__main__\", fname, loader, pkg_name)\n  File \"//anaconda/lib/python2.7/runpy.py\", line 72, in _run_code\n    exec code in run_globals\n  File \"/anaconda/lib/python2.7/site-packages/ipykernel/__main__.py\", line 3, in <module>\n    app.launch_new_instance()\n  File \"/Users/seanwade/.local/lib/python2.7/site-packages/traitlets/config/application.py\", line 596, in launch_instance\n    app.start()\n  File \"//anaconda/lib/python2.7/site-packages/ipykernel/kernelapp.py\", line 389, in start\n    ioloop.IOLoop.instance().start()\n  File \"//anaconda/lib/python2.7/site-packages/zmq/eventloop/ioloop.py\", line 151, in start\n    super(ZMQIOLoop, self).start()\n  File \"//anaconda/lib/python2.7/site-packages/tornado/ioloop.py\", line 831, in start\n    self._run_callback(callback)\n  File \"//anaconda/lib/python2.7/site-packages/tornado/ioloop.py\", line 604, in _run_callback\n    ret = callback()\n  File \"//anaconda/lib/python2.7/site-packages/tornado/stack_context.py\", line 275, in null_wrapper\n    return fn(*args, **kwargs)\n  File \"//anaconda/lib/python2.7/site-packages/ipykernel/kernelbase.py\", line 234, in enter_eventloop\n    self.eventloop(self)\n  File \"//anaconda/lib/python2.7/site-packages/ipykernel/eventloops.py\", line 241, in loop_cocoa\n    show.mainloop()\n  File \"//anaconda/lib/python2.7/site-packages/matplotlib/backends/backend_macosx.py\", line 29, in mainloop\n    _macosx.show()\n  File \"//anaconda/lib/python2.7/site-packages/matplotlib/backend_bases.py\", line 1305, in _on_timer\n    ret = func(*args, **kwargs)\n  File \"//anaconda/lib/python2.7/site-packages/ipykernel/eventloops.py\", line 218, in doi\n    kernel.do_one_iteration()\n  File \"//anaconda/lib/python2.7/site-packages/ipykernel/kernelbase.py\", line 267, in do_one_iteration\n    stream.flush(zmq.POLLIN, 1)\n  File \"//anaconda/lib/python2.7/site-packages/zmq/eventloop/zmqstream.py\", line 345, in flush\n    self._handle_recv()\n  File \"//anaconda/lib/python2.7/site-packages/zmq/eventloop/zmqstream.py\", line 465, in _handle_recv\n    self._run_callback(callback, msg)\n  File \"//anaconda/lib/python2.7/site-packages/zmq/eventloop/zmqstream.py\", line 407, in _run_callback\n    callback(*args, **kwargs)\n  File \"//anaconda/lib/python2.7/site-packages/tornado/stack_context.py\", line 275, in null_wrapper\n    return fn(*args, **kwargs)\n  File \"//anaconda/lib/python2.7/site-packages/ipykernel/kernelbase.py\", line 252, in dispatcher\n    return self.dispatch_shell(stream, msg)\n  File \"//anaconda/lib/python2.7/site-packages/ipykernel/kernelbase.py\", line 213, in dispatch_shell\n    handler(stream, idents, msg)\n  File \"//anaconda/lib/python2.7/site-packages/ipykernel/kernelbase.py\", line 362, in execute_request\n    user_expressions, allow_stdin)\n  File \"//anaconda/lib/python2.7/site-packages/ipykernel/ipkernel.py\", line 175, in do_execute\n    shell.run_cell(code, store_history=store_history, silent=silent)\n  File \"/Users/seanwade/.local/lib/python2.7/site-packages/IPython/core/interactiveshell.py\", line 2723, in run_cell\n    interactivity=interactivity, compiler=compiler, result=result)\n  File \"/Users/seanwade/.local/lib/python2.7/site-packages/IPython/core/interactiveshell.py\", line 2825, in run_ast_nodes\n    if self.run_code(code, result):\n  File \"/Users/seanwade/.local/lib/python2.7/site-packages/IPython/core/interactiveshell.py\", line 2885, in run_code\n    exec(code_obj, self.user_global_ns, self.user_ns)\n  File \"<ipython-input-93-428db4a8cf9b>\", line 5, in <module>\n    op = tf.nn.conv2d(I, K, [1,1,1,1], padding='VALID')\n  File \"//anaconda/lib/python2.7/site-packages/tensorflow/python/ops/gen_nn_ops.py\", line 394, in conv2d\n    data_format=data_format, name=name)\n  File \"//anaconda/lib/python2.7/site-packages/tensorflow/python/ops/op_def_library.py\", line 704, in apply_op\n    op_def=op_def)\n  File \"//anaconda/lib/python2.7/site-packages/tensorflow/python/framework/ops.py\", line 2260, in create_op\n    original_op=self._default_original_op, op_def=op_def)\n  File \"//anaconda/lib/python2.7/site-packages/tensorflow/python/framework/ops.py\", line 1230, in __init__\n    self._traceback = _extract_stack()\n"
     ]
    }
   ],
   "source": [
    "import tensorflow as tf\n",
    "\n",
    "I = tf.Variable(np.ones((1,5,5,5)))\n",
    "K = tf.Variable(np.ones((3,3,5,7)))\n",
    "op = tf.nn.conv2d(I, K, [1,1,1,1], padding='VALID')\n",
    "\n",
    "sess = tf.Session()\n",
    "sess.run(tf.initialize_all_variables())\n",
    "sess.run(op)\n"
   ]
  },
  {
   "cell_type": "code",
   "execution_count": null,
   "metadata": {
    "collapsed": true
   },
   "outputs": [],
   "source": []
  }
 ],
 "metadata": {
  "kernelspec": {
   "display_name": "Python 2",
   "language": "python",
   "name": "python2"
  },
  "language_info": {
   "codemirror_mode": {
    "name": "ipython",
    "version": 2
   },
   "file_extension": ".py",
   "mimetype": "text/x-python",
   "name": "python",
   "nbconvert_exporter": "python",
   "pygments_lexer": "ipython2",
   "version": "2.7.10"
  }
 },
 "nbformat": 4,
 "nbformat_minor": 0
}
