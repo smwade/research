{
 "cells": [
  {
   "cell_type": "markdown",
   "metadata": {},
   "source": [
    "# Code2Vec\n",
    "Sean Wade"
   ]
  },
  {
   "cell_type": "markdown",
   "metadata": {},
   "source": [
    "1. input layer, one hot layer\n",
    "2. hidden layer (linear (identity)\n",
    "3. output layer (softmax)"
   ]
  },
  {
   "cell_type": "code",
   "execution_count": 1,
   "metadata": {
    "collapsed": false
   },
   "outputs": [],
   "source": [
    "from __future__ import division, print_function\n",
    "from health.codes import *\n",
    "from health import find_codes\n",
    "import gensim"
   ]
  },
  {
   "cell_type": "code",
   "execution_count": 2,
   "metadata": {
    "collapsed": true
   },
   "outputs": [],
   "source": [
    "model = gensim.models.Word2Vec.load('code2vec.p')"
   ]
  },
  {
   "cell_type": "code",
   "execution_count": 3,
   "metadata": {
    "collapsed": false
   },
   "outputs": [],
   "source": [
    "def find_similar(in_code):\n",
    "    if in_code not in model:\n",
    "        print(\"Code not in training set...\")\n",
    "        return\n",
    "    \n",
    "    print(\"[%s] %s\" % (in_code, icd2desc[in_code]))\n",
    "    print(\"-\"*30)\n",
    "    results = model.most_similar(positive=[in_code])\n",
    "    for code, desc in results:\n",
    "        try:\n",
    "            print(\"[%s] \" % code, icd2desc[code][:40], desc)\n",
    "        except: pass"
   ]
  },
  {
   "cell_type": "markdown",
   "metadata": {},
   "source": [
    "### Most Similar Codes"
   ]
  },
  {
   "cell_type": "code",
   "execution_count": 4,
   "metadata": {
    "collapsed": false
   },
   "outputs": [
    {
     "name": "stdout",
     "output_type": "stream",
     "text": [
      "[34430] Monoplegia of lower limb affecting unspecified side\n",
      "------------------------------\n",
      "[3369]  Unspecified disease of spinal cord 0.773293316364\n",
      "[3449]  Paralysis, unspecified 0.761551678181\n",
      "[09489]  Other specified neurosyphilis 0.75483417511\n",
      "[7814]  PERIOST SUT-METACAR/CAR (Begin 1991) 0.743457555771\n",
      "[3570]  HEART SEPTA REPAIR NOS 0.735608577728\n",
      "[99675]  Other complications due to nervous syste 0.733783721924\n",
      "[3368]  Other myelopathy 0.730498969555\n",
      "[72141]  Spondylosis with myelopathy, thoracic re 0.720960080624\n",
      "[43884]  Other late effects of cerebrovascular di 0.719599127769\n",
      "[3578]  Inflammatory and toxic neuropathy - Othe 0.715212225914\n"
     ]
    }
   ],
   "source": [
    "find_similar('34430')"
   ]
  },
  {
   "cell_type": "code",
   "execution_count": 5,
   "metadata": {
    "collapsed": false
   },
   "outputs": [
    {
     "name": "stdout",
     "output_type": "stream",
     "text": [
      "[99565] Anaphylactic shock due to fish\n",
      "------------------------------\n",
      "[99562]  Anaphylactic shock due to crustaceans 0.756537437439\n",
      "[9953]  ARBOVIRUS ENCEPH VACCIN 0.747067093849\n",
      "[9957]  BOTULISM ANTITOXIN ADMIN 0.742300629616\n",
      "[99560]  Anaphylactic shock due to unspecified fo 0.74084764719\n",
      "[9950]  Other anaphylactic shock, not elsewhere  0.736726045609\n",
      "[99561]  Anaphylactic shock due to peanuts 0.731634140015\n",
      "[6931]  Dermatitis due to food taken internally 0.697154641151\n",
      "[99527]  Other drug allergy 0.671091079712\n",
      "[99564]  Anaphylactic shock due to tree nuts and  0.660813808441\n",
      "[7080]  Allergic urticaria 0.61965829134\n"
     ]
    }
   ],
   "source": [
    "find_similar('99565')"
   ]
  },
  {
   "cell_type": "code",
   "execution_count": 6,
   "metadata": {
    "collapsed": false
   },
   "outputs": [
    {
     "name": "stdout",
     "output_type": "stream",
     "text": [
      "[78052] Insomnia, unspecified\n",
      "------------------------------\n",
      "[30742]  Persistent disorder of initiating or mai 0.601093709469\n",
      "[78079]  Other malaise and fatigue 0.558987975121\n",
      "[78050]  Sleep disturbance, unspecified 0.519410610199\n",
      "[3080]  Predominant disturbance of emotions 0.518715322018\n",
      "[78054]  Hypersomnia, unspecified 0.507867455482\n",
      "[7805]  BONE GRAFT TO FEMUR 0.499624609947\n",
      "[3089]  Unspecified acute reaction to stress 0.490030139685\n",
      "[33399]  Other extrapyramidal diseases and abnorm 0.48095291853\n",
      "[33394]  Restless legs syndrome (RLS) 0.471392869949\n",
      "[30000]  Anxiety state, unspecified 0.460547029972\n"
     ]
    }
   ],
   "source": [
    "find_similar('78052')"
   ]
  },
  {
   "cell_type": "code",
   "execution_count": 7,
   "metadata": {
    "collapsed": false
   },
   "outputs": [
    {
     "name": "stdout",
     "output_type": "stream",
     "text": [
      "[24900] Secondary diabetes mellitus without mention of complication, not stated as uncontrolled, or unspecified\n",
      "------------------------------\n",
      "[36206]  Severe nonproliferative diabetic retinop 0.716771841049\n",
      "[36204]  Mild nonproliferative diabetic retinopat 0.697458744049\n",
      "[25020]  Diabetes with hyperosmolarity, type II o 0.695071220398\n",
      "[25023]  Diabetes with hyperosmolarity, type I [j 0.688840985298\n",
      "[25012]  Diabetes with ketoacidosis, type II or u 0.677049994469\n",
      "[25021]  Diabetes with hyperosmolarity, type I [j 0.657078564167\n",
      "[36203]  Nonproliferative diabetic retinopathy NO 0.648167490959\n"
     ]
    }
   ],
   "source": [
    "find_similar('24900')"
   ]
  },
  {
   "cell_type": "code",
   "execution_count": 288,
   "metadata": {
    "collapsed": false
   },
   "outputs": [
    {
     "name": "stdout",
     "output_type": "stream",
     "text": [
      "[9490] Burn of unspecified site, unspecified degree\n",
      "------------------------------\n",
      "[94400]  Burn of unspecified degree of hand, unsp 0.821710586548\n",
      "[94100]  Burn of unspecified degree of face and h 0.815165042877\n",
      "[94800]  Burn [any degree] involving less than 10 0.793270528316\n",
      "[94203]  Burn of unspecified degree of abdominal  0.792121052742\n",
      "[94401]  Burn of unspecified degree of single dig 0.787130832672\n",
      "[94120]  Blisters, epidermal loss [second degree] 0.782836019993\n",
      "[94506]  Burn of unspecified degree of thigh [any 0.767872273922\n",
      "[9461]  ALCOHOL REHABILITATION (Begin 1989) 0.763352513313\n",
      "[94428]  Blisters, epidermal loss [second degree] 0.760929524899\n",
      "[94222]  Blisters, epidermal loss [second degree] 0.760725438595\n"
     ]
    }
   ],
   "source": [
    "find_similar('9490')"
   ]
  },
  {
   "cell_type": "markdown",
   "metadata": {},
   "source": [
    "### Relations Between Codes"
   ]
  },
  {
   "cell_type": "code",
   "execution_count": 289,
   "metadata": {
    "collapsed": false
   },
   "outputs": [
    {
     "name": "stdout",
     "output_type": "stream",
     "text": [
      "[V201]  Other healthy infant or child receiving care 0.466313809156\n",
      "[94500]  Burn of unspecified degree of lower limb [leg], unspecified site 0.463710725307\n",
      "[37239]  Other conjunctivitis 0.456536054611\n",
      "[75249]  Other anomalies of cervix, vagina, and external female genitalia 0.454389512539\n",
      "[37530]  Dacryocystitis, unspecified 0.453188866377\n",
      "[V181]  fm hx-endo/metab dis nec 0.452681839466\n",
      "[6232]  Stricture or atresia of vagina 0.451912820339\n",
      "[94524]  Blisters, epidermal loss [second degree] of lower leg 0.451757371426\n",
      "[9116]  CELL BLK/PAP-PERITONEUM 0.433939963579\n",
      "[94100]  Burn of unspecified degree of face and head, unspecified site 0.43359580636\n"
     ]
    }
   ],
   "source": [
    "results = model.most_similar(positive=['94504'], negative=['33394','34430'])\n",
    "for code, desc in results:\n",
    "    if code in icd2desc:\n",
    "        print(\"[%s] \" % code, icd2desc[code], desc)"
   ]
  },
  {
   "cell_type": "markdown",
   "metadata": {},
   "source": [
    "### Anomaly Detection"
   ]
  },
  {
   "cell_type": "code",
   "execution_count": 20,
   "metadata": {
    "collapsed": false
   },
   "outputs": [
    {
     "name": "stdout",
     "output_type": "stream",
     "text": [
      "Outlier: Male orgasmic disorder\n"
     ]
    }
   ],
   "source": [
    "# 8789 FEMALE GENITAL X-RAY NEC\n",
    "# 62920 Female genital mutilation status, unspecified\n",
    "# 30274 Male orgasmic disorder\n",
    "# 6281 Infertility, female, of pituitary-hypothalamic origin\n",
    "\n",
    "outlier = model.doesnt_match(\"8789 62920 30274 6281\".split())\n",
    "print(\"Outlier: %s\" % icd2desc[outlier])"
   ]
  },
  {
   "cell_type": "code",
   "execution_count": 21,
   "metadata": {
    "collapsed": false
   },
   "outputs": [
    {
     "name": "stdout",
     "output_type": "stream",
     "text": [
      "Outlier: Acute osteomyelitis, lower leg\n"
     ]
    }
   ],
   "source": [
    "# 88023 Open wound of upper arm, with tendon involvement\n",
    "# 73092 Unspecified infection of bone, upper arm\n",
    "# 25260 Repair, tendon or muscle, flexor, forearm and/or wrist; primary, single, each tendon or muscle\n",
    "# 73006 Acute osteomyelitis, lower leg\n",
    "\n",
    "outlier = model.doesnt_match(\"88023 73092 25260 73006\".split())\n",
    "print(\"Outlier: %s\" % icd2desc[outlier])"
   ]
  },
  {
   "cell_type": "code",
   "execution_count": 10,
   "metadata": {
    "collapsed": false
   },
   "outputs": [
    {
     "name": "stdout",
     "output_type": "stream",
     "text": [
      "Outlier: Closed dislocation of interphalangeal (joint), foot\n"
     ]
    }
   ],
   "source": [
    "# 99683 Complications of transplanted heart\n",
    "# V151 Personal history of surgery to heart and great vessels, presenting hazards to health\n",
    "# 40200 Malignant hypertensive heart disease without heart failure\n",
    "# 83806 Closed dislocation of interphalangeal (joint), foot\n",
    "\n",
    "outlier = model.doesnt_match(\"99683 V151 1904 83806\".split())\n",
    "print(\"Outlier: %s\" % icd2desc[outlier])"
   ]
  },
  {
   "cell_type": "markdown",
   "metadata": {},
   "source": [
    "\n",
    "### Disease Similarity Score"
   ]
  },
  {
   "cell_type": "code",
   "execution_count": 11,
   "metadata": {
    "collapsed": false
   },
   "outputs": [
    {
     "data": {
      "text/plain": [
       "0.70168022983256595"
      ]
     },
     "execution_count": 11,
     "metadata": {},
     "output_type": "execute_result"
    }
   ],
   "source": [
    "model.similarity('9957', '99564')"
   ]
  },
  {
   "cell_type": "markdown",
   "metadata": {},
   "source": [
    "### Visualize"
   ]
  },
  {
   "cell_type": "code",
   "execution_count": 14,
   "metadata": {
    "collapsed": true
   },
   "outputs": [],
   "source": [
    "from sklearn.manifold import TSNE\n",
    "from sklearn.decomposition import PCA\n",
    "from matplotlib import pyplot as plt\n",
    "import seaborn as sns\n",
    "import pandas as pd\n",
    "import plotly.plotly as py\n",
    "from plotly.graph_objs import *\n",
    "py.sign_in('smwade', \"a8zcz2zggpeP7MhyykAS\")\n",
    "% matplotlib inline"
   ]
  },
  {
   "cell_type": "code",
   "execution_count": 15,
   "metadata": {
    "collapsed": false
   },
   "outputs": [],
   "source": [
    "# break the codes into CCS groups\n",
    "data = np.ones(100)\n",
    "ccs_label = []\n",
    "icd_label = []\n",
    "for x in model.wv.index2word:\n",
    "    try:\n",
    "        ccs_label.append(icd2ccs[x])\n",
    "        icd_label.append(x)\n",
    "        data = np.vstack((data, model[x]))\n",
    "    except:\n",
    "        pass\n",
    "ccs_label = np.array(ccs_label)\n",
    "icd_label = np.array(icd_label)\n",
    "data = data[1:,:]"
   ]
  },
  {
   "cell_type": "code",
   "execution_count": 249,
   "metadata": {
    "collapsed": false
   },
   "outputs": [],
   "source": [
    "pca = PCA(n_components=2)\n",
    "pca_points = pca.fit_transform(data)"
   ]
  },
  {
   "cell_type": "code",
   "execution_count": 19,
   "metadata": {
    "collapsed": true
   },
   "outputs": [],
   "source": [
    "tsne = TSNE(n_components=2, learning_rate=200)\n",
    "tsne_points = tsne.fit_transform(data)"
   ]
  },
  {
   "cell_type": "code",
   "execution_count": 24,
   "metadata": {
    "collapsed": false
   },
   "outputs": [],
   "source": [
    "results = find_codes('','ccs')\n",
    "plot_labels = results.keys()\n",
    "plot_labels = ['240', '037', '108', '105','235','149','011']"
   ]
  },
  {
   "cell_type": "code",
   "execution_count": 25,
   "metadata": {
    "collapsed": false,
    "scrolled": false
   },
   "outputs": [
    {
     "data": {
      "text/html": [
       "<iframe id=\"igraph\" scrolling=\"no\" style=\"border:none;\" seamless=\"seamless\" src=\"https://plot.ly/~smwade/12.embed\" height=\"525px\" width=\"100%\"></iframe>"
      ],
      "text/plain": [
       "<plotly.tools.PlotlyDisplay object>"
      ]
     },
     "execution_count": 25,
     "metadata": {},
     "output_type": "execute_result"
    }
   ],
   "source": [
    "points = tsne_points\n",
    "data_sources = []\n",
    "for l in plot_labels:\n",
    "    color = iter(plt.cm.rainbow(np.linspace(0,1,len(plot_labels))))\n",
    "    data_sources.append(Scatter(\n",
    "    name=ccs2desc[l],\n",
    "    x=points[ccs_label == l][:,0],\n",
    "    y=points[ccs_label == l][:,1],\n",
    "    mode='markers',\n",
    "    marker=Marker(\n",
    "        size=5,\n",
    "        color=next(color)[0],\n",
    "        opacity=1,\n",
    "    ),\n",
    "    #text=[icd2ccs[x] for x in icd_label[ccs_label == l]],\n",
    "    text=[icd2desc[x] for x in icd_label[ccs_label == l]],\n",
    "    #text=icd_label[ccs_label == l],      \n",
    "    hoverinfo='text',\n",
    "    visible='true'\n",
    "    ))\n",
    "\n",
    "source = Data(data_sources)\n",
    "\n",
    "layout = Layout(\n",
    "title=\"ICD9 Codes\",\n",
    "autosize=True,\n",
    "hovermode='closest',\n",
    ")\n",
    "\n",
    "fig = dict(data=source, layout=layout)\n",
    "py.iplot(fig, filename='code2vec_tsne_groups', validate=False)"
   ]
  },
  {
   "cell_type": "markdown",
   "metadata": {},
   "source": [
    "### Visualize Relations"
   ]
  },
  {
   "cell_type": "code",
   "execution_count": 32,
   "metadata": {
    "collapsed": true
   },
   "outputs": [],
   "source": [
    "icd2point = {}\n",
    "for code, val in zip(icd_label, tsne_points):\n",
    "    icd2point[code] = val"
   ]
  },
  {
   "cell_type": "code",
   "execution_count": 33,
   "metadata": {
    "collapsed": true
   },
   "outputs": [],
   "source": [
    "def icd_points(codes):\n",
    "    if isinstance(codes, list):\n",
    "        return np.array([icd2point[x] for x in codes])\n",
    "    else:\n",
    "        return icd2point[codes]"
   ]
  },
  {
   "cell_type": "code",
   "execution_count": 34,
   "metadata": {
    "collapsed": false
   },
   "outputs": [
    {
     "name": "stdout",
     "output_type": "stream",
     "text": [
      "Positive: [u'Closed dislocation, sixth cervical vertebra']\n",
      "Negative: [u'Disseminated malignant neoplasm without specification of site']\n",
      "----------------------------------------\n",
      "[V017]  viral dis contact nec 0.414492070675\n",
      "[V0189]  Contact with or exposure to other communicable diseases 0.374367386103\n",
      "[46400]  Acute laryngitis without mention of obstruction 0.353141844273\n",
      "[4789]  Other and unspecified diseases of upper respiratory tract 0.348423182964\n",
      "[4658]  Acute upper respiratory infections of other multiple sites 0.3477216959\n",
      "[9180]  Superficial injury of eyelids and periocular area 0.345269441605\n",
      "[92233]  contusn of interscapular region 0.341302543879\n",
      "[37251]  Pinguecula 0.334330111742\n",
      "[2245]  Benign neoplasm of retina 0.333713173866\n",
      "[9301]  FUNCTIONAL PT EVALUATION 0.325109511614\n"
     ]
    }
   ],
   "source": [
    "pos = ['83906']\n",
    "neg = ['1990']\n",
    "print(\"Positive: {}\".format([icd2desc[x] for x in pos]))\n",
    "print(\"Negative: {}\".format([icd2desc[x] for x in neg]))\n",
    "print(\"-\"*40)\n",
    "\n",
    "results = model.most_similar(positive=pos, negative=neg)\n",
    "rel_points = []\n",
    "for code, desc in results:\n",
    "    if code in icd2desc:\n",
    "        print(\"[%s] \" % code, icd2desc[code][:60], desc)\n",
    "        rel_points.append(icd_points(code))\n",
    "        \n",
    "rel_points = np.array(rel_points)"
   ]
  },
  {
   "cell_type": "code",
   "execution_count": 35,
   "metadata": {
    "collapsed": false
   },
   "outputs": [],
   "source": [
    "pos_points = icd_points(pos)\n",
    "neg_points = icd_points(neg)"
   ]
  },
  {
   "cell_type": "code",
   "execution_count": 36,
   "metadata": {
    "collapsed": false
   },
   "outputs": [
    {
     "data": {
      "image/png": "[encoded data removed]",
      "text/plain": [
       "<matplotlib.figure.Figure at 0x11e136f10>"
      ]
     },
     "metadata": {},
     "output_type": "display_data"
    }
   ],
   "source": [
    "plt.scatter(rel_points[:,0],rel_points[:,1])\n",
    "plt.scatter(pos_points[:,0], pos_points[:,1], c='g')\n",
    "plt.scatter(neg_points[:,0], neg_points[:,1], c='r')\n",
    "plt.show()"
   ]
  },
  {
   "cell_type": "markdown",
   "metadata": {},
   "source": [
    "### Plot an Individuals History"
   ]
  },
  {
   "cell_type": "code",
   "execution_count": 37,
   "metadata": {
    "collapsed": false
   },
   "outputs": [
    {
     "data": {
      "image/png": "[encoded data removed]",
      "text/plain": [
       "<matplotlib.figure.Figure at 0x1189130d0>"
      ]
     },
     "metadata": {},
     "output_type": "display_data"
    }
   ],
   "source": [
    "personal_history = ['V700','V0481','4660']\n",
    "points = icd_points(personal_history)\n",
    "plt.scatter(points[:,0], points[:,1])\n",
    "plt.show()"
   ]
  }
 ],
 "metadata": {
  "anaconda-cloud": {},
  "kernelspec": {
   "display_name": "Python 2",
   "language": "python",
   "name": "python2"
  },
  "language_info": {
   "codemirror_mode": {
    "name": "ipython",
    "version": 2
   },
   "file_extension": ".py",
   "mimetype": "text/x-python",
   "name": "python",
   "nbconvert_exporter": "python",
   "pygments_lexer": "ipython2",
   "version": "2.7.13"
  }
 },
 "nbformat": 4,
 "nbformat_minor": 1
}
