{
 "cells": [
  {
   "cell_type": "code",
   "execution_count": 1,
   "metadata": {
    "collapsed": true
   },
   "outputs": [],
   "source": [
    "import pandas as pd\n",
    "import gensim\n",
    "import re\n",
    "from health import HealthCode as hc"
   ]
  },
  {
   "cell_type": "markdown",
   "metadata": {},
   "source": [
    "## Make code sequences for word2vec"
   ]
  },
  {
   "cell_type": "code",
   "execution_count": 5,
   "metadata": {
    "collapsed": true
   },
   "outputs": [],
   "source": [
    "# Create the code dictionary\n",
    "import sqlite3\n",
    "conn = sqlite3.connect('/Users/seanwade/research/hci3clone.db')\n",
    "cur = conn.cursor()\n",
    "c = cur.execute('select value, description from code;')\n",
    "result = c.fetchall()\n",
    "code_dict = dict(result)"
   ]
  },
  {
   "cell_type": "code",
   "execution_count": 6,
   "metadata": {
    "collapsed": false
   },
   "outputs": [],
   "source": [
    "data = pd.read_csv('ckd_survival.csv')\n",
    "data = data.dropna()\n",
    "codes = data['ObsCodes'].apply(lambda x: x.split(','))\n",
    "codes = codes.tolist()"
   ]
  },
  {
   "cell_type": "code",
   "execution_count": 7,
   "metadata": {
    "collapsed": false
   },
   "outputs": [],
   "source": [
    "model = gensim.models.Word2Vec(codes, min_count=1, workers=4)"
   ]
  },
  {
   "cell_type": "code",
   "execution_count": 8,
   "metadata": {
    "collapsed": false
   },
   "outputs": [],
   "source": [
    "def most_common(in_code):\n",
    "    print('Best Match: [%s] %s' % (in_code, code_dict[in_code]))\n",
    "    print('-'*30)\n",
    "    results = model.most_similar(positive=[in_code])\n",
    "    for code, desc in results:\n",
    "        print code_dict[code], desc\n",
    "        \n",
    "def search_code(word):\n",
    "    for code, desc in code_dict.iteritems():\n",
    "        if word in desc.lower():\n",
    "            print code, desc"
   ]
  },
  {
   "cell_type": "code",
   "execution_count": 9,
   "metadata": {
    "collapsed": false
   },
   "outputs": [
    {
     "name": "stdout",
     "output_type": "stream",
     "text": [
      "Best Match: [78052] Insomnia, unspecified\n",
      "------------------------------\n",
      "Anxiety state, unspecified 0.73973929882\n",
      "Laboratory Pathological - Cytology 0.713368654251\n",
      "Nonorganic sleep disorder, unspecified 0.704700112343\n",
      "Unspecified acute reaction to stress 0.681277155876\n",
      "miglitol 0.630098104477\n",
      "Other extrapyramidal diseases and abnormal movement disorders 0.624132514\n",
      "Restless legs syndrome (RLS) 0.607250630856\n",
      "Irritability 0.598385035992\n",
      "Other specified episodic mood disorder 0.593862652779\n",
      "Sleep disturbance, unspecified 0.55687892437\n"
     ]
    }
   ],
   "source": [
    "most_common('78052')"
   ]
  },
  {
   "cell_type": "code",
   "execution_count": null,
   "metadata": {
    "collapsed": true
   },
   "outputs": [],
   "source": [
    "model.most_similar(positive=['78052', 'king'], negative=['man'], topn=1)"
   ]
  },
  {
   "cell_type": "code",
   "execution_count": 177,
   "metadata": {
    "collapsed": false
   },
   "outputs": [
    {
     "name": "stdout",
     "output_type": "stream",
     "text": [
      "E8104 Motor vehicle traffic accident involving collision with train injuring occupant of streetcar\n",
      "E8204 Nontraffic accident involving motor-driven snow vehicle injuring occupant of streetcar\n",
      "E8174 Noncollision motor vehicle traffic accident while boarding or alighting injuring occupant of streetcar\n",
      "E8284 Accident involving animal being ridden injuring occupant of streetcar\n",
      "E8274 Animal-drawn vehicle accident injuring occupant of streetcar\n",
      "99564 Anaphylactic shock due to tree nuts and seeds\n",
      "E8144 Motor vehicle traffic accident involving collision with pedestrian injuring occupant of streetcar\n",
      "E8495 Street and highway accidents\n",
      "E8194 Motor vehicle traffic accident of unspecified nature injuring occupant of streetcar\n",
      "9349 Foreign body in respiratory tree, unspecified\n",
      "E8224 Other motor vehicle nontraffic accident involving collision with moving object injuring occupant of streetcar\n",
      "E8114 Motor vehicle traffic accident involving re-entrant collision with another motor vehicle injuring occupant of streetcar\n",
      "E8214 Nontraffic accident involving other off-road motor vehicle injuring occupant of streetcar\n",
      "E8164 Motor vehicle traffic accident due to loss of control, without collision on the highway, injuring occupant of streetcar\n",
      "E8294 Other road vehicle accidents injuring occupant of streetcar\n",
      "31646 Bronchoscopy, (rigid or flexible); with therapeutic aspiration of tracheobronchial tree, subsequent\n",
      "31645 Bronchoscopy, (rigid or flexible); with therapeutic aspiration of tracheobronchial tree, initial (eg, drainage of lung abscess)\n",
      "E8244 Other motor vehicle nontraffic accident while boarding and alighting injuring occupant of streetcar\n",
      "E8134 Motor vehicle traffic accident involving collision with other vehicle injuring occupant of streetcar\n",
      "E8184 Other noncollision motor vehicle traffic accident injuring occupant of streetcar\n",
      "E8234 Other motor vehicle nontraffic accident involving collision with stationary object injuring occupant of streetcar\n",
      "E8264 Pedal cycle accident injuring occupant of streetcar\n",
      "E8154 Other motor vehicle traffic accident involving collision on the highway injuring occupant of streetcar\n",
      "E8254 Other motor vehicle nontraffic accident of other and unspecified nature injuring occupant of streetcar\n",
      "E8124 Other motor vehicle traffic accident involving collision with motor vehicle injuring occupant of streetcar\n"
     ]
    }
   ],
   "source": [
    "search_code('tree')"
   ]
  },
  {
   "cell_type": "code",
   "execution_count": 152,
   "metadata": {
    "collapsed": false
   },
   "outputs": [
    {
     "data": {
      "text/plain": [
       "[u'Other testicular hypofunction',\n",
       " u'LYMPHATIC STRUCT BIOPSY',\n",
       " u'Insomnia, unspecified',\n",
       " u'Insomnia, unspecified',\n",
       " u'Other testicular hypofunction',\n",
       " u'LYMPHATIC DIAG PROC NEC',\n",
       " u'Insomnia, unspecified',\n",
       " u'Other testicular hypofunction',\n",
       " u'LYMPHATIC DIAG PROC NEC',\n",
       " u'VAGINAL RECONSTRUCTION',\n",
       " u'Other testicular hypofunction',\n",
       " u'Other testicular hypofunction',\n",
       " u'LYMPHATIC DIAG PROC NEC',\n",
       " u'Insomnia, unspecified',\n",
       " u'Other testicular hypofunction',\n",
       " u'Other testicular hypofunction',\n",
       " u'LYMPHATIC DIAG PROC NEC',\n",
       " u'Insomnia, unspecified',\n",
       " u'Other testicular hypofunction',\n",
       " u'Other testicular hypofunction',\n",
       " u'Insomnia, unspecified',\n",
       " u'LYMPHATIC DIAG PROC NEC',\n",
       " u'Other testicular hypofunction',\n",
       " u'LYMPHATIC DIAG PROC NEC',\n",
       " u'Insomnia, unspecified',\n",
       " u'Other specified disorders of male genital organs',\n",
       " u'Other specified disorders of male genital organs',\n",
       " u'Malignant neoplasm of other and unspecified testis',\n",
       " u'Neoplasm of uncertain behavior of testis',\n",
       " u'Other testicular hypofunction',\n",
       " u'Malignant neoplasm of other and unspecified testis',\n",
       " u'Other testicular hypofunction',\n",
       " u'Other specified disorders of male genital organs',\n",
       " u'LYMPHATIC DIAG PROC NEC',\n",
       " u'Insomnia, unspecified',\n",
       " u'Malignant neoplasm of other and unspecified testis',\n",
       " u'Benign neoplasm of testis',\n",
       " u'Malignant neoplasm of other and unspecified testis',\n",
       " u'Other postprocedural status',\n",
       " u'Malignant neoplasm of other and unspecified testis',\n",
       " u'Malignant neoplasm of other and unspecified testis',\n",
       " u'Pain in limb',\n",
       " u'Encounter for occupational therapy',\n",
       " u'Encounter for occupational therapy',\n",
       " u'Pain in limb',\n",
       " u'Encounter for occupational therapy',\n",
       " u'Pain in limb',\n",
       " u'Malignant neoplasm of other and unspecified testis',\n",
       " u'Encounter for antineoplastic chemotherapy',\n",
       " u'Pain in limb',\n",
       " u'Encounter for occupational therapy',\n",
       " u'Malignant neoplasm of other and unspecified testis',\n",
       " u'Encounter for antineoplastic chemotherapy',\n",
       " u'Malignant neoplasm of other and unspecified testis']"
      ]
     },
     "execution_count": 152,
     "metadata": {},
     "output_type": "execute_result"
    }
   ],
   "source": [
    "[code_dict[x] for x in codes[3]]"
   ]
  },
  {
   "cell_type": "code",
   "execution_count": 153,
   "metadata": {
    "collapsed": false
   },
   "outputs": [
    {
     "data": {
      "text/plain": [
       "array([ 1.42351925,  0.36200714,  0.04029246,  0.45012993,  1.67520213,\n",
       "       -0.89871639,  0.9017992 ,  1.43083394,  0.76971066,  0.25553402,\n",
       "        1.39905   ,  0.00267439, -1.3049829 ,  0.01566558, -0.59942073,\n",
       "        0.88816386, -0.18785706,  1.27744758,  0.47666034, -0.26514229,\n",
       "        1.16282535, -0.11169358, -1.39038968,  1.14692032, -0.11249124,\n",
       "        0.44773227, -1.23939383, -0.61993432,  0.41752821, -1.17919719,\n",
       "        0.02145267,  0.20766227, -1.76857162,  1.57034576,  0.23959047,\n",
       "       -0.43203279, -0.51510262,  0.36228621, -0.75185484, -0.25685287,\n",
       "        0.4552002 ,  0.6442793 ,  0.09077801, -0.39917937,  0.73645061,\n",
       "        0.76245797,  0.69914073,  0.44992328, -0.00489621,  0.38540629,\n",
       "        1.96874118, -0.87516189, -1.0146116 , -0.05628011, -1.40155745,\n",
       "       -0.23632443, -0.50485808,  1.60325861,  0.28338963,  0.41405693,\n",
       "        1.30232859, -1.59729338,  0.80713248,  0.26190647, -0.61285937,\n",
       "        0.37791663,  0.49725458, -0.55809605, -0.22407219,  1.18526673,\n",
       "        0.42949358, -0.24861802, -0.01782975, -0.83311713, -0.1652292 ,\n",
       "       -1.37226069,  0.94725007, -1.93901277,  0.18645474,  0.59746116,\n",
       "       -1.6312325 ,  1.62617981,  1.23671973, -0.18200846, -0.16778612,\n",
       "        0.24424121,  0.32484069,  0.32341066,  0.21799241,  0.7268607 ,\n",
       "       -0.71744776,  0.35285488,  0.65139407, -0.62024266, -0.53267533,\n",
       "       -1.20105481, -0.82939452,  0.35940415,  0.43986627, -1.17263663], dtype=float32)"
      ]
     },
     "execution_count": 153,
     "metadata": {},
     "output_type": "execute_result"
    }
   ],
   "source": [
    "model['78052'] # get word embedding"
   ]
  },
  {
   "cell_type": "code",
   "execution_count": null,
   "metadata": {
    "collapsed": true
   },
   "outputs": [],
   "source": [
    "model.most_similar(positive=['woman', 'king'], negative=['man'], topn=1)\n",
    "[('queen', 0.50882536)]\n",
    "model.doesnt_match(\"breakfast cereal dinner lunch\";.split())\n",
    "'cereal'\n",
    "model.similarity('woman', 'man')\n",
    "0.73723527"
   ]
  },
  {
   "cell_type": "code",
   "execution_count": 203,
   "metadata": {
    "collapsed": false
   },
   "outputs": [],
   "source": [
    "import os\n",
    "import csv\n",
    "class SequenceIter(object):\n",
    "    \n",
    "    def __init__(self, dirname):\n",
    "        self.dirname = dirname\n",
    " \n",
    "    def __iter__(self):\n",
    "        with open(self.dirname,'rb') as csvFile:\n",
    "            reader = csv.reader(csvFile)\n",
    "            for row in reader:\n",
    "                yield ', '.join(row)\n",
    "    \n",
    " \n",
    "\n",
    "#sentences = MySentences('/some/directory') # a memory-friendly iterator\n",
    "#model = gensim.models.Word2Vec(sentences)"
   ]
  },
  {
   "cell_type": "markdown",
   "metadata": {},
   "source": [
    "## Make code converters"
   ]
  },
  {
   "cell_type": "code",
   "execution_count": null,
   "metadata": {
    "collapsed": true
   },
   "outputs": [],
   "source": [
    "from health import HealthCode as hc\n",
    "hc.ccs2icd"
   ]
  },
  {
   "cell_type": "code",
   "execution_count": 239,
   "metadata": {
    "collapsed": false
   },
   "outputs": [],
   "source": [
    "# Create the code dictionary\n",
    "conn = sqlite3.connect('/Users/seanwade/research/hci3clone.db')\n",
    "cur = conn.cursor()\n",
    "result = cur.execute('select distinct category from ccs;')\n",
    "ccs = result.fetchall()\n",
    "ccs = [str(x[0]) for x in ccs]"
   ]
  },
  {
   "cell_type": "code",
   "execution_count": 233,
   "metadata": {
    "collapsed": false
   },
   "outputs": [],
   "source": [
    "ccs2icd = {}\n",
    "icd2ccs = {}\n",
    "for code in ccs:\n",
    "    if code[0] != '6':\n",
    "        result = cur.execute('select value from code where ccs_category=\"{}\";'.format(code))\n",
    "        icd9 = result.fetchall()\n",
    "        icd9 = [str(x[0]) for x in icd9]\n",
    "        ccs2icd[code] = icd9\n",
    "        for ic in icd9:\n",
    "            icd2ccs[ic] = code\n"
   ]
  },
  {
   "cell_type": "code",
   "execution_count": 235,
   "metadata": {
    "collapsed": false
   },
   "outputs": [
    {
     "data": {
      "text/plain": [
       "['30100', '31231', '31233', '31235', '31237']"
      ]
     },
     "execution_count": 235,
     "metadata": {},
     "output_type": "execute_result"
    }
   ],
   "source": [
    "ccs2icd['031'][:5]"
   ]
  },
  {
   "cell_type": "code",
   "execution_count": 236,
   "metadata": {
    "collapsed": false
   },
   "outputs": [
    {
     "data": {
      "text/plain": [
       "'031'"
      ]
     },
     "execution_count": 236,
     "metadata": {},
     "output_type": "execute_result"
    }
   ],
   "source": [
    "icd2ccs['31233']"
   ]
  },
  {
   "cell_type": "code",
   "execution_count": 237,
   "metadata": {
    "collapsed": true
   },
   "outputs": [],
   "source": [
    "import pickle\n",
    "pickle.dump(ccs2icd, open('ccs2icd.p', 'wb'))\n",
    "pickle.dump(icd2ccs, open('icd2ccs.p', 'wb'))"
   ]
  },
  {
   "cell_type": "markdown",
   "metadata": {
    "collapsed": true
   },
   "source": [
    "## More"
   ]
  },
  {
   "cell_type": "code",
   "execution_count": 10,
   "metadata": {
    "collapsed": false
   },
   "outputs": [
    {
     "name": "stdout",
     "output_type": "stream",
     "text": [
      "Manometric studies through nephrostomy or pyelostomy tube, or indwelling ureteral catheter\n",
      "Injection procedure for ureterography or ureteropyelography through ureterostomy or indwelling ureteral catheter\n",
      "Manometric studies through ureterostomy or indwelling ureteral catheter\n",
      "Injection procedure for visualization of ileal conduit and/or ureteropyelography, exclusive of radiologic service\n",
      "Injection procedure for cystography or voiding urethrocystography\n",
      "Injection procedure and placement of chain for contrast and/or chain urethrocystography\n",
      "Injection procedure for retrograde urethrocystography\n",
      "Simple cystometrogram (CMG) (eg, spinal manometer)\n",
      "Complex cystometrogram (eg, calibrated electronic equipment)\n",
      "Complex cystometrogram (ie, calibrated electronic equipment); with urethral pressure profile studies (ie, urethral closure pressure profile), any technique\n",
      "Complex cystometrogram (ie, calibrated electronic equipment); with voiding pressure studies (ie, bladder voiding pressure), any technique\n",
      "Complex cystometrogram (ie, calibrated electronic equipment); with voiding pressure studies (ie, bladder voiding pressure) and urethral pressure profile studies (ie, urethral closure pressure profile), any technique\n",
      "Simple uroflowmetry (UFR) (eg, stop-watch flow rate, mechanical uroflowmeter)\n",
      "Complex uroflowmetry (eg, calibrated electronic equipment)\n",
      "Urethral pressure profile studies (UPP) (urethral closure pressure profile), any technique\n",
      "Electromyography studies (EMG) of anal or urethral sphincter, other than needle, any technique\n",
      "Needle electromyography studies (EMG) of anal or urethral sphincter, any technique\n",
      "Stimulus evoked response (eg, measurement of bulbocavernosus reflex latency time)\n",
      "Voiding pressure studies (VP); bladder voiding pressure, any technique\n",
      "Voiding pressure studies, intra-abdominal (ie, rectal, gastric, intraperitoneal) (List separately in addition to code for primary procedure)\n",
      "Measurement of post-voiding residual urine and/or bladder capacity by ultrasound, non-imaging\n",
      "Closed fracture of shaft of clavicle\n",
      "Closed fracture of acromial end of clavicle\n",
      "Urinalysis; qualitative or semiquantitative, except immunoassays\n",
      "Urine pregnancy test, by visual color comparison methods\n",
      "Volume measurement for timed collection, each\n",
      "Unlisted urinalysis procedure\n",
      "Albumin; urine or other source, quantitative, each specimen\n",
      "Closed fracture of shaft of femur\n",
      "Open fracture of condyle, femoral\n",
      "Disseminated superficial actinic porokeratosis (DSAP)\n",
      "Cast Room - General Classification\n",
      "Circumscribed scleroderma\n",
      "HYMENOTOMY\n",
      "CULDOTOMY\n",
      "INTRALUM VAG ADHESIOLYS\n",
      "VAGINOTOMY NEC\n",
      "Other abnormal granulation tissue\n",
      "Other specified hypertrophic and atrophic conditions of skin\n",
      "molindone\n",
      "Other dermatoses\n",
      "Actinic keratosis\n",
      "VAGINOSCOPY\n",
      "Inflamed seborrheic keratosis\n",
      "Other seborrheic keratosis\n",
      "Other specified dermatoses\n",
      "Ingrowing nail\n",
      "Other specified diseases of nail\n",
      "Unspecified disease of nail\n",
      "Alopecia, unspecified\n",
      "Alopecia areata\n",
      "Telogen effluvium\n",
      "Other alopecia\n",
      "Hirsutism\n",
      "Abnormalities of the hair\n",
      "Variations in hair color\n",
      "Pilar cyst (Begin 2011)\n",
      "Trichilemmal cyst (Begin 2011)\n",
      "Other specified diseases of hair and hair follicles\n",
      "Unspecified disease of hair and hair follicles\n",
      "CYSTOCEL/RECTOCEL REPAIR\n",
      "CYSTOCELE REPAIR\n",
      "Primary focal hyperhidrosis\n",
      "Secondary focal hyperhidrosis\n",
      "Dyshidrosis\n",
      "Fox-Fordyce disease\n",
      "Hidradenitis\n",
      "Other specified disorders of sweat glands\n",
      "Unspecified disorder of sweat glands\n",
      "Acne varioliformis\n",
      "VAGINAL CONSTRUCTION\n",
      "VAGINAL RECONSTRUCTION\n",
      "VAGINAL CONST W GRF/PROS (Begin 2007)\n",
      "Other specified diseases of sebaceous glands\n",
      "Unspecified disease of sebaceous glands\n",
      "Other disorders of skin and subcutaneous tissue - Dyschromia\n",
      "Dyschromia, unspecified\n",
      "Vitiligo\n",
      "Other dyschromia\n",
      "VAGINAL OPERATION NEC\n",
      "CUL-DE-SAC OPERATION NEC\n",
      "CUL-DE-SAC GRF/PROS NEC (Begin 2007)\n",
      "INSERT BIOLOGICAL GRAFT (Begin 2007)\n",
      "Other specified disorders of skin\n",
      "Unspecified disorder of skin and subcutaneous tissue\n",
      "BONE GRAFT-METATAR/TAR\n",
      "oxytetracycline\n",
      "EPIPHYS STAPLE-HUMERUS (Begin 1991)\n",
      "Personal history of diseases of skin and subcutaneous tissue\n",
      "Skin replaced by transplant\n",
      "OTHER GU SYSTEM EXAMS\n"
     ]
    }
   ],
   "source": [
    "for x in [hc.code_dict[x] for x in hc.ccs2icd['200']]:\n",
    "    print x"
   ]
  },
  {
   "cell_type": "code",
   "execution_count": null,
   "metadata": {
    "collapsed": true
   },
   "outputs": [],
   "source": []
  }
 ],
 "metadata": {
  "kernelspec": {
   "display_name": "Python 2",
   "language": "python",
   "name": "python2"
  },
  "language_info": {
   "codemirror_mode": {
    "name": "ipython",
    "version": 2
   },
   "file_extension": ".py",
   "mimetype": "text/x-python",
   "name": "python",
   "nbconvert_exporter": "python",
   "pygments_lexer": "ipython2",
   "version": "2.7.13"
  }
 },
 "nbformat": 4,
 "nbformat_minor": 0
}
