{
 "cells": [
  {
   "cell_type": "markdown",
   "metadata": {},
   "source": [
    "# Model Cross-validation with Keras\n",
    "Sean Wade"
   ]
  },
  {
   "cell_type": "code",
   "execution_count": 2,
   "metadata": {
    "collapsed": false
   },
   "outputs": [
    {
     "name": "stderr",
     "output_type": "stream",
     "text": [
      "Using TensorFlow backend.\n"
     ]
    }
   ],
   "source": [
    "from __future__ import absolute_import, division, print_function\n",
    "import numpy as np\n",
    "import pickle\n",
    "import keras\n",
    "from keras.datasets import mnist\n",
    "from keras.models import Sequential\n",
    "from keras.layers import Dense, Activation, Dropout, Flatten\n",
    "from keras.layers import Convolution2D, MaxPooling2D\n",
    "from keras.optimizers import SGD\n",
    "from keras.wrappers.scikit_learn import KerasClassifier\n",
    "from keras.utils import np_utils\n",
    "from sklearn.model_selection import GridSearchCV"
   ]
  },
  {
   "cell_type": "code",
   "execution_count": 3,
   "metadata": {
    "collapsed": false
   },
   "outputs": [],
   "source": [
    "# Load the data\n",
    "(x_train, y_train_num), (x_test, y_test_num) = mnist.load_data()\n",
    "x_train = x_train.reshape(x_train.shape[0], 28, 28, 1).astype('float32')\n",
    "x_test = x_test.reshape(x_test.shape[0], 28, 28, 1).astype('float32')\n",
    "x_train /= 255\n",
    "x_test /= 255\n",
    "y_train = np_utils.to_categorical(y_train_num, 10)\n",
    "y_test = np_utils.to_categorical(y_test_num, 10)"
   ]
  },
  {
   "cell_type": "markdown",
   "metadata": {},
   "source": [
    "## Model Function\n",
    "\n",
    "To integrate with sklearn we must make a function that creates the model.  The function should take the parameters we want to test for cross validation.  This code tests for width, depth and init_mode of a network."
   ]
  },
  {
   "cell_type": "code",
   "execution_count": 4,
   "metadata": {
    "collapsed": true
   },
   "outputs": [],
   "source": [
    "def create_model(optimizer='adam'):\n",
    "    # Model\n",
    "    model = Sequential()\n",
    "    model.add(Convolution2D(32, 3, 3, input_shape=(28, 28, 1)))\n",
    "    model.add(Activation('relu'))\n",
    "    model.add(Convolution2D(32, 3, 3))\n",
    "    model.add(Activation('relu'))\n",
    "    model.add(MaxPooling2D(pool_size=(2,2)))\n",
    "    model.add(Dropout(0.25))\n",
    "    model.add(Flatten())\n",
    "    model.add(Dense(128))\n",
    "    model.add(Activation('relu'))\n",
    "    model.add(Dropout(0.5))\n",
    "    model.add(Dense(10))\n",
    "    model.add(Activation('softmax'))\n",
    "\n",
    "    # Loss and Optimizer\n",
    "    model.compile(loss='categorical_crossentropy', optimizer=optimizer, metrics=['accuracy'])\n",
    "    return model"
   ]
  },
  {
   "cell_type": "markdown",
   "metadata": {},
   "source": [
    "## Grid Parameters\n",
    "\n",
    "Next we create a dictionary of parameters.  Each parameter containing a list we want to test."
   ]
  },
  {
   "cell_type": "code",
   "execution_count": 5,
   "metadata": {
    "collapsed": true
   },
   "outputs": [],
   "source": [
    "optimizer_list = ['adam', 'rmsprop', 'sgd']\n",
    "param_grid = dict(optimizer=optimizer_list)"
   ]
  },
  {
   "cell_type": "markdown",
   "metadata": {},
   "source": [
    "## Grid Search"
   ]
  },
  {
   "cell_type": "code",
   "execution_count": 6,
   "metadata": {
    "collapsed": false
   },
   "outputs": [
    {
     "name": "stdout",
     "output_type": "stream",
     "text": [
      "Fitting 2 folds for each of 3 candidates, totalling 6 fits\n",
      "Epoch 1/1\n",
      "30000/30000 [==============================] - 77s - loss: 0.4199 - acc: 0.8710    \n",
      "30000/30000 [==============================] - 33s    \n",
      "30000/30000 [==============================] - 30s    \n",
      "Epoch 1/1\n",
      "30000/30000 [==============================] - 72s - loss: 0.4392 - acc: 0.8628    \n",
      "30000/30000 [==============================] - 26s    \n",
      "30000/30000 [==============================] - 25s    \n",
      "Epoch 1/1\n",
      "30000/30000 [==============================] - 73s - loss: 0.3581 - acc: 0.8889    \n",
      "30000/30000 [==============================] - 26s    \n",
      "30000/30000 [==============================] - 25s    \n",
      "Epoch 1/1\n",
      "30000/30000 [==============================] - 72s - loss: 0.3535 - acc: 0.8911    \n",
      "30000/30000 [==============================] - 30s    \n",
      "30000/30000 [==============================] - 33s    \n",
      "Epoch 1/1\n",
      "30000/30000 [==============================] - 102s - loss: 1.8672 - acc: 0.3821   \n",
      "30000/30000 [==============================] - 33s    \n",
      "30000/30000 [==============================] - 35s    \n",
      "Epoch 1/1\n",
      "30000/30000 [==============================] - 91s - loss: 2.0197 - acc: 0.3183    \n",
      "30000/30000 [==============================] - 27s    \n",
      "30000/30000 [==============================] - 25s    \n",
      "Epoch 1/1\n",
      "60000/60000 [==============================] - 154s - loss: 0.2578 - acc: 0.9206   \n"
     ]
    },
    {
     "name": "stderr",
     "output_type": "stream",
     "text": [
      "[Parallel(n_jobs=1)]: Done   6 out of   6 | elapsed: 14.3min finished\n"
     ]
    }
   ],
   "source": [
    "model = KerasClassifier(build_fn=create_model, nb_epoch=1, batch_size=128, verbose=True)\n",
    "grid = GridSearchCV(estimator=model, param_grid=param_grid, verbose=True, cv=2)\n",
    "grid_result = grid.fit(x_train, y_train)"
   ]
  },
  {
   "cell_type": "code",
   "execution_count": 7,
   "metadata": {
    "collapsed": false
   },
   "outputs": [
    {
     "name": "stdout",
     "output_type": "stream",
     "text": [
      "Best: 0.965650 using {'optimizer': 'rmsprop'}\n",
      "0.962850 (0.003517) with: {'optimizer': 'adam'}\n",
      "0.965650 (0.001150) with: {'optimizer': 'rmsprop'}\n",
      "0.813983 (0.015483) with: {'optimizer': 'sgd'}\n"
     ]
    }
   ],
   "source": [
    "# summarize results\n",
    "print(\"Best: %f using %s\" % (grid_result.best_score_, grid_result.best_params_))\n",
    "means = grid_result.cv_results_['mean_test_score']\n",
    "stds = grid_result.cv_results_['std_test_score']\n",
    "params = grid_result.cv_results_['params']\n",
    "for mean, stdev, param in zip(means, stds, params):\n",
    "    print(\"%f (%f) with: %r\" % (mean, stdev, param))"
   ]
  },
  {
   "cell_type": "code",
   "execution_count": 10,
   "metadata": {
    "collapsed": false
   },
   "outputs": [
    {
     "data": {
      "text/plain": [
       "{'mean_fit_time': array([  76.45673764,   74.32631612,  101.2042805 ]),\n",
       " 'mean_score_time': array([ 29.74063933,  28.50668097,  30.26880097]),\n",
       " 'mean_test_score': array([ 0.96285   ,  0.96565   ,  0.81398333]),\n",
       " 'mean_train_score': array([ 0.96735   ,  0.96983333,  0.81366667]),\n",
       " 'param_optimizer': masked_array(data = ['adam' 'rmsprop' 'sgd'],\n",
       "              mask = [False False False],\n",
       "        fill_value = ?),\n",
       " 'params': ({'optimizer': 'adam'},\n",
       "  {'optimizer': 'rmsprop'},\n",
       "  {'optimizer': 'sgd'}),\n",
       " 'rank_test_score': array([2, 1, 3], dtype=int32),\n",
       " 'split0_test_score': array([ 0.96636667,  0.9645    ,  0.82946667]),\n",
       " 'split0_train_score': array([ 0.97043333,  0.96813333,  0.83646667]),\n",
       " 'split1_test_score': array([ 0.95933333,  0.9668    ,  0.7985    ]),\n",
       " 'split1_train_score': array([ 0.96426667,  0.97153333,  0.79086667]),\n",
       " 'std_fit_time': array([ 2.40596855,  0.34335208,  6.52176058]),\n",
       " 'std_score_time': array([ 3.66890848,  2.42151594,  3.217031  ]),\n",
       " 'std_test_score': array([ 0.00351667,  0.00115   ,  0.01548333]),\n",
       " 'std_train_score': array([ 0.00308333,  0.0017    ,  0.0228    ])}"
      ]
     },
     "execution_count": 10,
     "metadata": {},
     "output_type": "execute_result"
    }
   ],
   "source": [
    "grid_result.cv_results_"
   ]
  },
  {
   "cell_type": "code",
   "execution_count": null,
   "metadata": {
    "collapsed": true
   },
   "outputs": [],
   "source": []
  }
 ],
 "metadata": {
  "kernelspec": {
   "display_name": "Python 2",
   "language": "python",
   "name": "python2"
  },
  "language_info": {
   "codemirror_mode": {
    "name": "ipython",
    "version": 2
   },
   "file_extension": ".py",
   "mimetype": "text/x-python",
   "name": "python",
   "nbconvert_exporter": "python",
   "pygments_lexer": "ipython2",
   "version": "2.7.10"
  }
 },
 "nbformat": 4,
 "nbformat_minor": 0
}
