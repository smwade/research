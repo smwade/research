{
 "cells": [
  {
   "cell_type": "markdown",
   "metadata": {},
   "source": [
    "# Model Cross-validation with Keras\n",
    "Sean Wade"
   ]
  },
  {
   "cell_type": "code",
   "execution_count": 1,
   "metadata": {
    "collapsed": false
   },
   "outputs": [
    {
     "name": "stderr",
     "output_type": "stream",
     "text": [
      "Using TensorFlow backend.\n"
     ]
    }
   ],
   "source": [
    "from __future__ import absolute_import, division, print_function\n",
    "import numpy as np\n",
    "import pickle\n",
    "import keras\n",
    "from keras.datasets import mnist\n",
    "from keras.models import Sequential\n",
    "from keras.layers import Dense, Activation, Dropout, Flatten\n",
    "from keras.layers import Convolution2D, MaxPooling2D, Reshape\n",
    "from keras.optimizers import SGD\n",
    "from keras.wrappers.scikit_learn import KerasClassifier\n",
    "from keras.utils import np_utils\n",
    "from sklearn.model_selection import GridSearchCV\n",
    "from sklearn.externals import joblib"
   ]
  },
  {
   "cell_type": "code",
   "execution_count": 2,
   "metadata": {
    "collapsed": false
   },
   "outputs": [],
   "source": [
    "# Load the data\n",
    "(x_train, y_train_num), (x_test, y_test_num) = mnist.load_data()\n",
    "x_train = x_train.reshape(x_train.shape[0], 28, 28, 1).astype('float32')\n",
    "x_test = x_test.reshape(x_test.shape[0], 28, 28, 1).astype('float32')\n",
    "x_train /= 255\n",
    "x_test /= 255\n",
    "y_train = np_utils.to_categorical(y_train_num, 10)\n",
    "y_test = np_utils.to_categorical(y_test_num, 10)"
   ]
  },
  {
   "cell_type": "markdown",
   "metadata": {},
   "source": [
    "## Model Function\n",
    "\n",
    "To integrate with sklearn we must make a function that creates the model.  The function should take the parameters we want to test for cross validation.  This code tests for width, depth and init_mode of a network."
   ]
  },
  {
   "cell_type": "code",
   "execution_count": 3,
   "metadata": {
    "collapsed": true
   },
   "outputs": [],
   "source": [
    "def create_model(optimizer='adam'):\n",
    "    model = Sequential()\n",
    "    model.add(Reshape((784,), input_shape=(28, 28, 1)))\n",
    "    model.add(Dense(output_dim=128, init='he_normal', bias=True))\n",
    "    model.add(Activation(\"relu\"))\n",
    "    model.add(Dense(output_dim=10, init='he_normal', bias=True))\n",
    "    model.add(Activation(\"softmax\"))\n",
    "    model.compile(loss='categorical_crossentropy', optimizer=optimizer, metrics=['accuracy'])\n",
    "    return model"
   ]
  },
  {
   "cell_type": "markdown",
   "metadata": {},
   "source": [
    "## Grid Parameters\n",
    "\n",
    "Next we create a dictionary of parameters.  Each parameter containing a list we want to test."
   ]
  },
  {
   "cell_type": "code",
   "execution_count": 4,
   "metadata": {
    "collapsed": true
   },
   "outputs": [],
   "source": [
    "optimizer_list = ['adam', 'rmsprop', 'sgd']\n",
    "batch_size_list = [32, 64, 128]\n",
    "param_grid = dict(optimizer=optimizer_list, batch_size=batch_size_list)"
   ]
  },
  {
   "cell_type": "markdown",
   "metadata": {},
   "source": [
    "## Grid Search"
   ]
  },
  {
   "cell_type": "code",
   "execution_count": 5,
   "metadata": {
    "collapsed": false
   },
   "outputs": [
    {
     "name": "stdout",
     "output_type": "stream",
     "text": [
      "Fitting 2 folds for each of 9 candidates, totalling 18 fits\n",
      "Epoch 1/1\n",
      "30000/30000 [==============================] - 4s - loss: 0.3387 - acc: 0.9033     \n",
      "29888/30000 [============================>.] - ETA: 0sEpoch 1/1\n",
      "30000/30000 [==============================] - 4s - loss: 0.3371 - acc: 0.9054     \n",
      "29856/30000 [============================>.] - ETA: 0sEpoch 1/1\n",
      "30000/30000 [==============================] - 4s - loss: 0.3344 - acc: 0.9043     \n",
      "29920/30000 [============================>.] - ETA: 0sEpoch 1/1\n",
      "30000/30000 [==============================] - 4s - loss: 0.3309 - acc: 0.9069     \n",
      "29888/30000 [============================>.] - ETA: 0sEpoch 1/1\n",
      "30000/30000 [==============================] - 3s - loss: 0.8348 - acc: 0.7980     \n",
      "29856/30000 [============================>.] - ETA: 0sEpoch 1/1\n",
      "30000/30000 [==============================] - 4s - loss: 0.8847 - acc: 0.7749     \n",
      "30000/30000 [==============================] - 1s     \n",
      "Epoch 1/1\n",
      "30000/30000 [==============================] - 2s - loss: 0.4030 - acc: 0.8866     \n",
      "29824/30000 [============================>.] - ETA: 0sEpoch 1/1\n",
      "30000/30000 [==============================] - 2s - loss: 0.3892 - acc: 0.8922     \n",
      "30000/30000 [==============================] - 0s     \n",
      "30000/30000 [==============================] - 0s     \n",
      "Epoch 1/1\n",
      "30000/30000 [==============================] - 2s - loss: 0.3727 - acc: 0.8973     \n",
      "29952/30000 [============================>.] - ETA: 0sEpoch 1/1\n",
      "30000/30000 [==============================] - 2s - loss: 0.3729 - acc: 0.8954     \n",
      "29952/30000 [============================>.] - ETA: 0sEpoch 1/1\n",
      "30000/30000 [==============================] - 2s - loss: 1.1390 - acc: 0.7256     \n",
      "29952/30000 [============================>.] - ETA: 0sEpoch 1/1\n",
      "30000/30000 [==============================] - 2s - loss: 1.2044 - acc: 0.7005     \n",
      "29632/30000 [============================>.] - ETA: 0sEpoch 1/1\n",
      "30000/30000 [==============================] - 1s - loss: 0.4855 - acc: 0.8655     \n",
      "29952/30000 [============================>.] - ETA: 0sEpoch 1/1\n",
      "30000/30000 [==============================] - 1s - loss: 0.4877 - acc: 0.8659     \n",
      "29824/30000 [============================>.] - ETA: 0sEpoch 1/1\n",
      "30000/30000 [==============================] - 1s - loss: 0.4403 - acc: 0.8801     \n",
      "30000/30000 [==============================] - 0s     \n",
      "29952/30000 [============================>.] - ETA: 0sEpoch 1/1\n",
      "30000/30000 [==============================] - 1s - loss: 0.4405 - acc: 0.8839     \n",
      "30000/30000 [==============================] - 0s     \n",
      "29824/30000 [============================>.] - ETA: 0sEpoch 1/1\n",
      "30000/30000 [==============================] - 1s - loss: 1.5383 - acc: 0.5939     \n",
      "30000/30000 [==============================] - 0s     \n",
      "Epoch 1/1\n",
      "30000/30000 [==============================] - 1s - loss: 1.4954 - acc: 0.6316     \n",
      "29952/30000 [============================>.] - ETA: 0sEpoch 1/1\n",
      "60000/60000 [==============================] - 8s - loss: 0.2605 - acc: 0.9264     \n"
     ]
    },
    {
     "name": "stderr",
     "output_type": "stream",
     "text": [
      "[Parallel(n_jobs=1)]: Done  18 out of  18 | elapsed:  1.5min finished\n"
     ]
    }
   ],
   "source": [
    "import warnings\n",
    "warnings.filterwarnings('ignore')\n",
    "model = KerasClassifier(build_fn=create_model, nb_epoch=1, batch_size=batch_size_list, verbose=True)\n",
    "grid = GridSearchCV(estimator=model, param_grid=param_grid, verbose=True, cv=2)\n",
    "grid_result = grid.fit(x_train, y_train)"
   ]
  },
  {
   "cell_type": "code",
   "execution_count": 6,
   "metadata": {
    "collapsed": false
   },
   "outputs": [
    {
     "name": "stdout",
     "output_type": "stream",
     "text": [
      "Best: 0.940650 using {'optimizer': 'adam', 'batch_size': 32}\n",
      "0.940650 (0.001517) with: {'optimizer': 'adam', 'batch_size': 32}\n",
      "0.932817 (0.001550) with: {'optimizer': 'rmsprop', 'batch_size': 32}\n",
      "0.872433 (0.001267) with: {'optimizer': 'sgd', 'batch_size': 32}\n",
      "0.929483 (0.001083) with: {'optimizer': 'adam', 'batch_size': 64}\n",
      "0.933850 (0.001783) with: {'optimizer': 'rmsprop', 'batch_size': 64}\n",
      "0.846550 (0.000883) with: {'optimizer': 'sgd', 'batch_size': 64}\n",
      "0.923367 (0.002767) with: {'optimizer': 'adam', 'batch_size': 128}\n",
      "0.916233 (0.000500) with: {'optimizer': 'rmsprop', 'batch_size': 128}\n",
      "0.788350 (0.010250) with: {'optimizer': 'sgd', 'batch_size': 128}\n"
     ]
    }
   ],
   "source": [
    "# summarize results\n",
    "print(\"Best: %f using %s\" % (grid_result.best_score_, grid_result.best_params_))\n",
    "means = grid_result.cv_results_['mean_test_score']\n",
    "stds = grid_result.cv_results_['std_test_score']\n",
    "params = grid_result.cv_results_['params']\n",
    "for mean, stdev, param in zip(means, stds, params):\n",
    "    print(\"%f (%f) with: %r\" % (mean, stdev, param))"
   ]
  },
  {
   "cell_type": "code",
   "execution_count": 7,
   "metadata": {
    "collapsed": false
   },
   "outputs": [
    {
     "data": {
      "text/plain": [
       "['out.p']"
      ]
     },
     "execution_count": 7,
     "metadata": {},
     "output_type": "execute_result"
    }
   ],
   "source": [
    "d = grid_result.cv_results_\n",
    "joblib.dump(d, 'out.p')"
   ]
  },
  {
   "cell_type": "code",
   "execution_count": 8,
   "metadata": {
    "collapsed": false
   },
   "outputs": [],
   "source": [
    "a = joblib.load('out.p')"
   ]
  },
  {
   "cell_type": "code",
   "execution_count": 9,
   "metadata": {
    "collapsed": false
   },
   "outputs": [
    {
     "data": {
      "text/plain": [
       "{'mean_fit_time': array([ 4.56389248,  4.91426647,  4.55470991,  3.06347215,  2.70140946,\n",
       "         2.49186158,  2.08880997,  1.96029449,  1.89702857]),\n",
       " 'mean_score_time': array([ 1.16054356,  1.65659046,  1.4370805 ,  0.88751686,  1.01908946,\n",
       "         0.84377599,  0.64867747,  0.76791549,  0.72550595]),\n",
       " 'mean_test_score': array([ 0.94065   ,  0.93281667,  0.87243333,  0.92948333,  0.93385   ,\n",
       "         0.84655   ,  0.92336667,  0.91623333,  0.78835   ]),\n",
       " 'mean_train_score': array([ 0.94996667,  0.94198333,  0.87468333,  0.93656667,  0.94135   ,\n",
       "         0.84821667,  0.92971667,  0.92363333,  0.79263333]),\n",
       " 'param_batch_size': masked_array(data = [32 32 32 64 64 64 128 128 128],\n",
       "              mask = [False False False False False False False False False],\n",
       "        fill_value = ?),\n",
       " 'param_optimizer': masked_array(data = ['adam' 'rmsprop' 'sgd' 'adam' 'rmsprop' 'sgd' 'adam' 'rmsprop' 'sgd'],\n",
       "              mask = [False False False False False False False False False],\n",
       "        fill_value = ?),\n",
       " 'params': ({'batch_size': 32, 'optimizer': 'adam'},\n",
       "  {'batch_size': 32, 'optimizer': 'rmsprop'},\n",
       "  {'batch_size': 32, 'optimizer': 'sgd'},\n",
       "  {'batch_size': 64, 'optimizer': 'adam'},\n",
       "  {'batch_size': 64, 'optimizer': 'rmsprop'},\n",
       "  {'batch_size': 64, 'optimizer': 'sgd'},\n",
       "  {'batch_size': 128, 'optimizer': 'adam'},\n",
       "  {'batch_size': 128, 'optimizer': 'rmsprop'},\n",
       "  {'batch_size': 128, 'optimizer': 'sgd'}),\n",
       " 'rank_test_score': array([1, 3, 7, 4, 2, 8, 5, 6, 9], dtype=int32),\n",
       " 'split0_test_score': array([ 0.93913333,  0.93126667,  0.87116667,  0.9284    ,  0.93563333,\n",
       "         0.84743333,  0.92613333,  0.91573333,  0.7781    ]),\n",
       " 'split0_train_score': array([ 0.94803333,  0.93796667,  0.8741    ,  0.93393333,  0.94123333,\n",
       "         0.8513    ,  0.93183333,  0.92313333,  0.7857    ]),\n",
       " 'split1_test_score': array([ 0.94216667,  0.93436667,  0.8737    ,  0.93056667,  0.93206667,\n",
       "         0.84566667,  0.9206    ,  0.91673333,  0.7986    ]),\n",
       " 'split1_train_score': array([ 0.9519    ,  0.946     ,  0.87526667,  0.9392    ,  0.94146667,\n",
       "         0.84513333,  0.9276    ,  0.92413333,  0.79956667]),\n",
       " 'std_fit_time': array([ 0.15999854,  0.35902059,  0.17904091,  0.25949705,  0.23026454,\n",
       "         0.20873451,  0.058599  ,  0.00849056,  0.13761461]),\n",
       " 'std_score_time': array([ 0.01497853,  0.21701956,  0.00401151,  0.121719  ,  0.11215043,\n",
       "         0.035748  ,  0.02552855,  0.07182956,  0.02321208]),\n",
       " 'std_test_score': array([ 0.00151667,  0.00155   ,  0.00126667,  0.00108333,  0.00178333,\n",
       "         0.00088333,  0.00276667,  0.0005    ,  0.01025   ]),\n",
       " 'std_train_score': array([ 0.00193333,  0.00401667,  0.00058333,  0.00263333,  0.00011667,\n",
       "         0.00308333,  0.00211667,  0.0005    ,  0.00693333])}"
      ]
     },
     "execution_count": 9,
     "metadata": {},
     "output_type": "execute_result"
    }
   ],
   "source": [
    "a"
   ]
  },
  {
   "cell_type": "code",
   "execution_count": 10,
   "metadata": {
    "collapsed": false
   },
   "outputs": [
    {
     "data": {
      "text/plain": [
       "'$Revision: 72223 $'"
      ]
     },
     "execution_count": 10,
     "metadata": {},
     "output_type": "execute_result"
    }
   ],
   "source": [
    "pickle.__version__"
   ]
  },
  {
   "cell_type": "code",
   "execution_count": null,
   "metadata": {
    "collapsed": true
   },
   "outputs": [],
   "source": []
  }
 ],
 "metadata": {
  "kernelspec": {
   "display_name": "Python 2",
   "language": "python",
   "name": "python2"
  },
  "language_info": {
   "codemirror_mode": {
    "name": "ipython",
    "version": 2
   },
   "file_extension": ".py",
   "mimetype": "text/x-python",
   "name": "python",
   "nbconvert_exporter": "python",
   "pygments_lexer": "ipython2",
   "version": "2.7.10"
  }
 },
 "nbformat": 4,
 "nbformat_minor": 0
}
