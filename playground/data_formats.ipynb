{
 "cells": [
  {
   "cell_type": "markdown",
   "metadata": {},
   "source": [
    "## HDF5 Data Format\n",
    "\n",
    "HDF5 is a very common data model, library, and file format for storing and managing data.  It was developed for large amounts of data.  The following code is how to use python with it."
   ]
  },
  {
   "cell_type": "code",
   "execution_count": 5,
   "metadata": {
    "collapsed": true
   },
   "outputs": [],
   "source": [
    "from __future__ import division, print_function, absolute_import\n",
    "import numpy as np\n",
    "from keras.datasets import cifar10\n",
    "import h5py"
   ]
  },
  {
   "cell_type": "code",
   "execution_count": 6,
   "metadata": {
    "collapsed": false
   },
   "outputs": [],
   "source": [
    "(X, Y), (X_test, Y_test) = cifar10.load_data()"
   ]
  },
  {
   "cell_type": "code",
   "execution_count": 7,
   "metadata": {
    "collapsed": true
   },
   "outputs": [],
   "source": [
    "# Store data to HDF5 format\n",
    "h5f = h5py.File('./tmp/data.h5', 'w')\n",
    "h5f.create_dataset('cifar10_X', data=X)\n",
    "h5f.create_dataset('cifar10_Y', data=Y)\n",
    "h5f.create_dataset('cifar10_X_test', data=X_test)\n",
    "h5f.create_dataset('cifar10_Y_test', data=Y_test)\n",
    "h5f.close()"
   ]
  },
  {
   "cell_type": "code",
   "execution_count": 8,
   "metadata": {
    "collapsed": false
   },
   "outputs": [],
   "source": [
    "# Read data from HDF5 format\n",
    "data = h5py.File('./tmp/data.h5', 'r')\n",
    "x_train = np.array(data['cifar10_X'])\n",
    "y_train = np.array(data['cifar10_Y'])\n",
    "x_test = np.array(data['cifar10_X_test'])\n",
    "y_test = np.array(data['cifar10_X_test'])"
   ]
  },
  {
   "cell_type": "code",
   "execution_count": 9,
   "metadata": {
    "collapsed": false
   },
   "outputs": [
    {
     "name": "stdout",
     "output_type": "stream",
     "text": [
      "Training Shape:  (50000, 32, 32, 3)\n",
      "Training Label Shape:  (50000, 1)\n",
      "Test Shape:  (10000, 32, 32, 3)\n",
      "Test Label Shape:  (10000, 32, 32, 3)\n"
     ]
    }
   ],
   "source": [
    "print('Training Shape: ', x_train.shape)\n",
    "print('Training Label Shape: ', y_train.shape)\n",
    "print('Test Shape: ', x_test.shape)\n",
    "print('Test Label Shape: ', y_test.shape)"
   ]
  }
 ],
 "metadata": {
  "kernelspec": {
   "display_name": "Python 2",
   "language": "python",
   "name": "python2"
  },
  "language_info": {
   "codemirror_mode": {
    "name": "ipython",
    "version": 2
   },
   "file_extension": ".py",
   "mimetype": "text/x-python",
   "name": "python",
   "nbconvert_exporter": "python",
   "pygments_lexer": "ipython2",
   "version": "2.7.10"
  }
 },
 "nbformat": 4,
 "nbformat_minor": 0
}
